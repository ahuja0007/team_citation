{
 "metadata": {
  "name": "",
  "signature": "sha256:42795b18eb670f2fff5d01043db894511a40876bef35f1fd0449c692b088d573"
 },
 "nbformat": 3,
 "nbformat_minor": 0,
 "worksheets": [
  {
   "cells": [
    {
     "cell_type": "code",
     "collapsed": false,
     "input": [
      "#Testing \n",
      "import pickle\n",
      "pkl_file = open('results_arxiv_api/astro-phstart5000max5000.pkl', 'rb')\n",
      "recovered_pickle=pickle.load(pkl_file)\n",
      "recovered_pickle[recovered_pickle.keys()[1]]\n"
     ],
     "language": "python",
     "metadata": {},
     "outputs": [
      {
       "metadata": {},
       "output_type": "pyout",
       "prompt_number": 3,
       "text": [
        "{'authors': [u'A. Dar', u'A. De R\\xfajula'],\n",
        " 'comment': u'10 pages,no figures, latex',\n",
        " 'href': u'http://arxiv.org/pdf/astro-ph/0007306v1',\n",
        " 'id': u'http://arxiv.org/abs/astro-ph/0007306v1',\n",
        " 'published': u'2000-07-20T14:00:25Z',\n",
        " 'query': u'What is the Cosmic-Ray luminosity of our Galaxy?',\n",
        " 'summary': u'  The total cosmic-ray luminosity of the Galaxy is an important constraint on\\nmodels of cosmic-ray generation. The diffuse high energy $\\\\gamma$-ray and\\nradio-synchrotron emissions of the Milky Way are used to derive this\\nluminosity. The result is almost two orders of magnitude larger than the\\nstandard estimate, based on the observed isotopic abundances of cosmic ray\\nnuclides. We discuss the plausible interpretation of this discrepancy and the\\npossible origin of such a relatively large luminosity.\\n',\n",
        " 'title': u'What is the Cosmic-Ray luminosity of our Galaxy?',\n",
        " 'updated': u'2000-07-20T14:00:25Z'}"
       ]
      }
     ],
     "prompt_number": 3
    },
    {
     "cell_type": "code",
     "collapsed": false,
     "input": [],
     "language": "python",
     "metadata": {},
     "outputs": []
    }
   ],
   "metadata": {}
  }
 ]
}