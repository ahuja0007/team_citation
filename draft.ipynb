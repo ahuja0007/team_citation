{
 "metadata": {
  "name": "",
  "signature": "sha256:8e8eaa76c17e0d94d6f1ab22a327288ed46a447e7272c53e5012a0581c71f9f2"
 },
 "nbformat": 3,
 "nbformat_minor": 0,
 "worksheets": [
  {
   "cells": [
    {
     "cell_type": "code",
     "collapsed": false,
     "input": [
      "import urllib,time\n",
      "from bs4 import BeautifulSoup\n",
      "import pickle\n",
      "\n",
      "\"\"\"Parse the results for a single paper\"\"\"\n",
      "def parse_data_from_arxiv_api(soup):\n",
      "    output={}\n",
      "    try:\n",
      "        output['query']=soup.title.get_text()\n",
      "        output['title']=soup.find_all('title')[-1].get_text() #this may be done better?\n",
      "        output['id']=soup.id.get_text()\n",
      "        output['authors']=[a.get_text().strip('\\n') for a in soup.find_all('author')]\n",
      "        output['published']=soup.published.get_text()\n",
      "        output['updated']=soup.updated.get_text()\n",
      "        output['summary']=soup.summary.get_text()\n",
      "        output['comment']=soup.find('arxiv:comment').get_text() \n",
      "        output['href']=soup.find_all('link')[-1]['href']\n",
      "        \n",
      "    except Exception as e:\n",
      "         print e\n",
      "         print 'trouble parsing results'\n",
      "    return output\n",
      "\n",
      "\n",
      "\"\"\"Scrape Arxiv and return a dictionary of dictionaries(each sub dictionary is a paper)\"\"\"\n",
      "def scrape_arxiv_api_convert_to_dict(category,start,max_number): \n",
      "        papers_scraped={}\n",
      "        url = 'http://export.arxiv.org/api/query?search_query=all:%s&start=%s&max_results=%s'%(category,start,max_number)\n",
      "        try:\n",
      "            data = urllib.urlopen(url).read()\n",
      "            soup=BeautifulSoup(data)\n",
      "        except:\n",
      "            print \"cannot contact arxiv\"\n",
      "            \n",
      "        entries=[e for e in soup.find_all('entry')]\n",
      "        for entry in entries:\n",
      "            parsed_data=parse_data_from_arxiv_api(entry)\n",
      "            papers_scraped[parsed_data['id']]=parsed_data\n",
      "        return papers_scraped,category+'start'+str(start)+'max'+str(max_number)\n",
      "    \n",
      "def save_into_pickle(papers,query):\n",
      "    try:\n",
      "        fout = open('results_arxiv_api/'+query+'.pkl', 'wb')\n",
      "    except Exception as e:\n",
      "        print e\n",
      "        print \"Write failed\"\n",
      "        return \n",
      "    pickle.dump(papers,fout)\n",
      "    \n"
     ],
     "language": "python",
     "metadata": {},
     "outputs": [],
     "prompt_number": 6
    },
    {
     "cell_type": "code",
     "collapsed": false,
     "input": [
      "#Testing \n",
      "categories=['hep-th','astro-ph']\n",
      "output,query=scrape_arxiv_api_convert_to_dict(categories[1],0,5)\n",
      "keys=output.keys()\n",
      "output[keys[1]] #example for the data of one paper\n",
      "save_into_pickle(output,query)\n",
      "pkl_file = open('results_arxiv_api/'+query+'.pkl', 'rb')\n",
      "recovered_pickle=pickle.load(pkl_file)\n",
      "recovered_pickle[output.keys()[1]]\n"
     ],
     "language": "python",
     "metadata": {},
     "outputs": [
      {
       "metadata": {},
       "output_type": "pyout",
       "prompt_number": 7,
       "text": [
        "{'authors': [u'Rosemary F. G. Wyse'],\n",
        " 'comment': u'16pp, plain tex, CfPA 94-th-40',\n",
        " 'href': 'http://arxiv.org/pdf/astro-ph/9410034v1',\n",
        " 'id': u'http://arxiv.org/abs/astro-ph/9410034v1',\n",
        " 'published': u'1994-10-12T00:26:50Z',\n",
        " 'query': u'Galactic Structure and Stellar Populations',\n",
        " 'summary': u'  Invited review given at special session on Digitizing the Sky at 1994 Summer\\nAAS meeting, Minnesota.\\n',\n",
        " 'title': u'Galactic Structure and Stellar Populations',\n",
        " 'updated': u'1994-10-12T00:26:50Z'}"
       ]
      }
     ],
     "prompt_number": 7
    },
    {
     "cell_type": "code",
     "collapsed": false,
     "input": [],
     "language": "python",
     "metadata": {},
     "outputs": []
    }
   ],
   "metadata": {}
  }
 ]
}