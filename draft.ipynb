{
 "metadata": {
  "name": "",
  "signature": "sha256:5d0a88ff06a547d79d2038c737c1204b66967b8cbc524a89fa677e844ab17d26"
 },
 "nbformat": 3,
 "nbformat_minor": 0,
 "worksheets": [
  {
   "cells": [
    {
     "cell_type": "code",
     "collapsed": false,
     "input": [
      "#Testing \n",
      "from arxiv_scraper import *\n",
      "categories=['hep-th','astro-ph']\n",
      "output,query=scrape_arxiv_api_convert_to_dict(categories[1],0,5)\n",
      "keys=output.keys()\n",
      "output[keys[1]] #example for the data of one paper\n",
      "save_into_pickle(output,query)\n",
      "pkl_file = open('results_arxiv_api/'+query+'.pkl', 'rb')\n",
      "recovered_pickle=pickle.load(pkl_file)\n",
      "recovered_pickle[output.keys()[1]]\n"
     ],
     "language": "python",
     "metadata": {},
     "outputs": [
      {
       "metadata": {},
       "output_type": "pyout",
       "prompt_number": 2,
       "text": [
        "{'authors': [u'Rosemary F. G. Wyse'],\n",
        " 'comment': u'16pp, plain tex, CfPA 94-th-40',\n",
        " 'href': 'http://arxiv.org/pdf/astro-ph/9410034v1',\n",
        " 'id': u'http://arxiv.org/abs/astro-ph/9410034v1',\n",
        " 'published': u'1994-10-12T00:26:50Z',\n",
        " 'query': u'Galactic Structure and Stellar Populations',\n",
        " 'summary': u'  Invited review given at special session on Digitizing the Sky at 1994 Summer\\nAAS meeting, Minnesota.\\n',\n",
        " 'title': u'Galactic Structure and Stellar Populations',\n",
        " 'updated': u'1994-10-12T00:26:50Z'}"
       ]
      }
     ],
     "prompt_number": 2
    },
    {
     "cell_type": "code",
     "collapsed": false,
     "input": [],
     "language": "python",
     "metadata": {},
     "outputs": []
    }
   ],
   "metadata": {}
  }
 ]
}