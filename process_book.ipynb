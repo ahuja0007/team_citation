{
 "metadata": {
  "name": "",
  "signature": "sha256:719232cab6c7154131be94e572f70454c73923d8b8c1d2f092e7ef814322bdaf"
 },
 "nbformat": 3,
 "nbformat_minor": 0,
 "worksheets": [
  {
   "cells": [
    {
     "cell_type": "markdown",
     "metadata": {},
     "source": [
      "*Team Citation: Marion Dierickx, George Miller, Stephen Portillo, Sam Sinai*"
     ]
    },
    {
     "cell_type": "heading",
     "level": 2,
     "metadata": {},
     "source": [
      "Overview and Motivation"
     ]
    },
    {
     "cell_type": "markdown",
     "metadata": {},
     "source": [
      "The success of a scientist\u2019s career is conventionally measured through publications: not only their number, but also the impact they have had in their field. For example, requirements for successful completion of a doctoral thesis are often informally translated to a number of first-author papers. A scientist\u2019s prominence is (imperfectly) estimated by looking at his or her lifetime publication count. Furthermore, the number of times papers are cited by other works serve as a proxy for their impact. For instance, the INSPIRE High-Energy Physics database defines \u201cRenowned\u201d papers as works with 500 or more citations, while \u201cKnown\u201d papers are works with merely 10 to 49 citations. \n",
      "\n",
      "Some indices attempt to combine publication number and quality into a more holistic measure of a scholar\u2019s published body of work. One such measure is the h-index, which stipulates that an author has a rating of *h* if *h* of their publications have *h* or more citations. As a result, the h-index reflects both the volume and quality of a scholar\u2019s body of work. \n",
      "\n",
      "For this project our group chose to look into citation numbers because they play such a key role in career advancement for scientists. Is it possible to predict the number of citations a paper will obtain? Can we distill out specific features that play a part in a publication\u2019s success? It is to be expected that the main factors influencing citation counts are properties such as innovative quality or scientific rigor. However, these are ambiguous and ill-defined characteristics, which do not easily lend themselves do data analysis. As a result, we are specifically interested in evaluating whether there are easily quantifiable, external criteria that influence a paper\u2019s citation count.   \n",
      "\n",
      "Using large datasets of academic publications from the fields of High-Energy Physics and Astrophysics, we intend to investigate whether paper properties such as length, number of figures, number of authors, or author connections are related to citation count. Finally, we aim to build a model to predict the number of citations a paper obtains based on these features."
     ]
    },
    {
     "cell_type": "heading",
     "level": 2,
     "metadata": {},
     "source": [
      "Related Work"
     ]
    },
    {
     "cell_type": "markdown",
     "metadata": {},
     "source": [
      "Stephen paste stuff here"
     ]
    },
    {
     "cell_type": "heading",
     "level": 2,
     "metadata": {},
     "source": [
      "Initial Questions"
     ]
    },
    {
     "cell_type": "markdown",
     "metadata": {},
     "source": [
      "Our dataset will include paper metadata such as title, length, author list, number of figures, journal and date of publication. These are features that are mostly under the author's control. As an author, what can one do to influence the expected citation count of a paper? Does the count depend on paper length, number of figures or pages? One may expect the journal of publication to have an effect in that certain journals have larger impact factors, meaning their papers are generally more highly cited. This may suggest that the expected number of citations improves with publication in a prestigious journal. However, with our dataset we cannot distinguish between this possibility and the alternative that higher average citation rates are due to selecting papers of better quality.  <br>\n",
      "\n",
      "Beyond paper metadata, we are also interested in how the authors' past history impact the success of future papers. Are an author's prolificacy (number of publications) and connectedness (involvement in collaborations) related to citation counts?"
     ]
    },
    {
     "cell_type": "heading",
     "level": 2,
     "metadata": {},
     "source": [
      "Data "
     ]
    },
    {
     "cell_type": "heading",
     "level": 2,
     "metadata": {},
     "source": [
      "Exploratory Analysis"
     ]
    },
    {
     "cell_type": "heading",
     "level": 2,
     "metadata": {},
     "source": [
      "Final Analysis"
     ]
    },
    {
     "cell_type": "code",
     "collapsed": false,
     "input": [],
     "language": "python",
     "metadata": {},
     "outputs": []
    }
   ],
   "metadata": {}
  }
 ]
}