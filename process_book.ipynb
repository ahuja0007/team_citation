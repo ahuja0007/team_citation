{
 "metadata": {
  "name": "",
  "signature": "sha256:aea7ec3ba6f1f8bf0654add76a47f28312bcd167af3a0cb1b5718f643eb01229"
 },
 "nbformat": 3,
 "nbformat_minor": 0,
 "worksheets": [
  {
   "cells": [
    {
     "cell_type": "code",
     "collapsed": false,
     "input": [
      "import ads\n",
      "import pickle\n",
      "import pandas as pd\n",
      "import numpy as np\n",
      "import matplotlib.pyplot as plt\n",
      "import pylab\n",
      "import math as math\n",
      "import scipy.stats as stats\n",
      "from glob import glob\n",
      "import random\n",
      "import datetime as dt\n",
      "import json\n",
      "import ast\n",
      "from sklearn.linear_model import LinearRegression\n",
      "from sklearn.svm import SVR\n",
      "from sklearn import cross_validation\n",
      "from itertools import *\n",
      "%matplotlib inline "
     ],
     "language": "python",
     "metadata": {},
     "outputs": [],
     "prompt_number": 2
    },
    {
     "cell_type": "markdown",
     "metadata": {},
     "source": [
      "*Team Citation: Marion Dierickx, George Miller, Stephen Portillo, Sam Sinai*"
     ]
    },
    {
     "cell_type": "heading",
     "level": 2,
     "metadata": {},
     "source": [
      "Overview and Motivation"
     ]
    },
    {
     "cell_type": "markdown",
     "metadata": {},
     "source": [
      "The success of a scientist\u2019s career is conventionally measured through publications: not only their number, but also the impact they have had in their field. For example, requirements for successful completion of a doctoral thesis are often informally translated to number of first-author papers. A scientist\u2019s prominence is (imperfectly) estimated by looking at his or her lifetime publication count. Furthermore, the number of times papers are cited by other works serve as a proxy for their impact. For instance, the INSPIRE High-Energy Physics database defines \u201cRenowned\u201d papers as works with 500 or more citations, while \u201cKnown\u201d papers are works with merely 10 to 49 citations. \n",
      "\n",
      "Some indices attempt to combine publication number and quality into a more holistic measure of a scholar\u2019s published body of work. One such measure is the h-index, which stipulates that an author has a rating of *h* if *h* of their publications have *h* or more citations. As a result, the h-index reflects both the volume and quality of a scholar\u2019s body of work. \n",
      "\n",
      "For this project our group chose to look into citation numbers because they play such a key role in career advancement for scientists. Is it possible to predict the number of citations a paper will obtain? Can we distill out specific features that play a part in a publication\u2019s success? It is to be expected that the main factors influencing citation counts are properties such as innovative quality or scientific rigor. However, these are ambiguous and ill-defined characteristics, which do not easily lend themselves do data analysis. As a result, we are specifically interested in evaluating whether there are easily quantifiable, intrinsic criteria that influence a paper\u2019s citation count.   \n",
      "\n",
      "Using large datasets of academic publications from the fields of High-Energy Physics and Astrophysics, we intend to investigate whether paper properties such as length, number of figures, number of authors, or author connections are related to citation count. Finally, we aim to build a model to predict the number of citations a paper obtains based on these features."
     ]
    },
    {
     "cell_type": "heading",
     "level": 2,
     "metadata": {},
     "source": [
      "Related Work"
     ]
    },
    {
     "cell_type": "markdown",
     "metadata": {},
     "source": [
      "As graduate students, we have a vested interest in analyzing citation counts \u2013 with this project, we may be able to gain insights that will help us write more highly cited papers. Beyond our self-interest, the sociological phenomena that influence the scientific literature are interesting in their own right, and there is already a sizable body of work in this field.\n",
      "\n",
      "For example, the Eigenfactor Project creates visualizations of the relationships between journals (http://well-formed.eigenfactor.org/index.html). Derived only from citation data, these visualizations not only show the clustering of journals by subject but also the relative importance of journals within fields.\n",
      "\n",
      "The scientific literature can be thought of as a network of papers, written by a network of authors who interact with each other. Networks of various kinds have attracted much research attention, including the Stanford Network Analysis Project (http://snap.stanford.edu/index.html), who have publicly released many of the datasets in their analysis. These include citation networks from high-energy physics, and collaboration networks from many fields of physics.\n",
      "Author Mark Newman and his group have also studied various kinds of networks, but are particularly famous for their work in analyzing the scientific literature. Newman and co-authors have constructed scientific collaboration networks and calculated global centrality measures to identify prominent scientists (http://www-personal.umich.edu/~mejn/papers/016131.pdf, http://www-personal.umich.edu/~mejn/papers/016132.pdf). They found that it was useful to account for the varying strength of collaborative ties between scientists, in particular, by assuming that scientists who write more papers together and in smaller collaborations are more closely linked. Also in the realm of network studies, Newman has investigated whether a scientist\u2019s collaborators are more likely to cite that scientist\u2019s work (http://arxiv.org/pdf/1304.0473v1.pdf).\n",
      "\n",
      "However, Newman's most famous predictor for a paper\u2019s citations is not related to networks. Rather, by measuring time by the number of papers published in a subfield since that subfield started, it appears that papers accumulate citations over time in a predictable way, with the earliest papers in the field having a significant advantage. Looking at papers that do better than expected given their earliness in the field and the time elapsed since their publication, Newman finds that these papers can be expected to pick up more future citations than other papers from the same time (http://arxiv.org/pdf/1310.8220v1.pdf)."
     ]
    },
    {
     "cell_type": "heading",
     "level": 2,
     "metadata": {},
     "source": [
      "Initial Questions"
     ]
    },
    {
     "cell_type": "markdown",
     "metadata": {},
     "source": [
      "Our dataset will include paper metadata such as title, length, author list, number of figures, journal and date of publication. These are features that are mostly under the author's control. As an author, what can one do to influence the expected citation count of a paper? Does the count depend on paper length, number of figures or pages? One may expect the journal of publication to have an effect in that certain journals have larger impact factors, meaning their papers are generally more highly cited. This may suggest that the expected number of citations improves with publication in a prestigious journal. However, with our dataset we cannot distinguish between this possibility and the alternative that higher average citation rates are due to selecting papers of better quality.  <br>\n",
      "\n",
      "Beyond paper metadata, we are also interested in how the authors' past history impact the success of future papers. Are an author's prolificacy (number of publications) and connectedness (involvement in collaborations) related to citation counts?"
     ]
    },
    {
     "cell_type": "heading",
     "level": 2,
     "metadata": {},
     "source": [
      "Data "
     ]
    },
    {
     "cell_type": "markdown",
     "metadata": {},
     "source": [
      "In this project we used three different and complementary data sources in order to investigate the relevance of various features.\n",
      "\n",
      "** *1) ArXiv* ** <br>\n",
      "ArXiv is an online repository of manuscript preprints for a variety of scientific disciplines, including Astronomy and Physics. The ArXiv has an API (available at http://export.arxiv.org/api) which allows us to scrape papers in order of ascending submission date starting from 1995. The data queried from the API is parsed using Beautiful Soup and written to a pickle file. The modules used to carry this out are contained in `arxiv_scrape_modules.py` and bundled through the `arxiv_scrape_from_commandline.py` wrapper. Papers were scraped 5000 at a time to avoid overloading the server. Below we include the sample command line input for downloading the first 5000 papers in the database:  <br>\n",
      "`python arxiv_scrape_from_commandline.py -s 0 -m 5000`\n",
      "\n",
      "** *2) ADS* ** <br>\n",
      "The SAO/NASA Astrophysics Data System (ADS, http://adswww.harvard.edu) is a digital library of publications in the fields of Astronomy, Physics, as well as ArXiv preprints. Importantly, ADS is more than a bibliographic database as it also tracks its records' citation counts.\n",
      "\n",
      "For all the papers in our initial ArXiv corpus, we query ADS by matching paper titles. Of the initial 50000 papers scraped from ArXiv, 30605 are matched to ADS. ADS provides us with most of the paper metadata we are concerned with: paper title, author list, citation count, journal and date of publication. In addition to these features, ADS also provides metrics for the first author's publication history, which we expect will bear importance for predicting paper impact. We parse the comments field from ArXiv submissions to obtain page and figure numbers in cases where they are included: of the 30605 papers with ADS data, 25608 and 13865  include page and figure numbers, respectively. The ADS querying and ArXiv comments parsing are carried out with the modules contained in `ADS_join_modules.py`, and the resulting pandas dataframe written to a csv file, as follows: <br>\n",
      "`from ADS_join_modules import search_comments` <br>\n",
      "`from ADS_join_modules import generate_df` <br>\n",
      "`pkl_file = open('./results_arxiv_api/astro-phstart0max5000.pkl','rb')` <br>\n",
      "`df = generate_df(pickle.load(pkl_file))` <br>\n",
      "\n",
      "** GEORGE INSERT STUFF ABOUT STUFF  !!!!!**\n",
      "\n",
      "\n",
      "** *3) INSPIRE-HEP* ** <br>\n",
      "INSPIRE-HEP is the main literature database for high-energy physics (HEP), curated by large high energy facilities like DESY, Fermilab, SLAC, and CERN. With the advent of subfields such as high energy astrophysics, particle astrophysics, and cosmology, the high energy physics literature and the astrophysics literature have become very closely linked. As a result INSPIRE-HEP collaborates with ArXiv (and ADS) and includes all the papers previously scraped from ArXiv.\n",
      "\n",
      "INSPIRE-HEP provides metadata for all papers in their database in a single file JSON download (http://inspirehep.net/info/hep/api), including title, authors, references, and citations:\n",
      "\n",
      "`{\"free_keywords\": [], \"standardized_keywords\": [], \"citations\": [500308, 625965, 523679], \"recid\": 496826, \"title\": \"WOMBAT and FORECAST: Making realistic maps of the microwave sky\", \"references\": [467588, 489607, 462345, 462477, 485266, 490390, 403995, 488220, 489385, 486196, 490633, 491450, 443072, 485315, 440398, 489812, 417102, 472662, 490980, 462586, 489828, 491111, 473769, 379258, 452347, 490709], \"abstract\": \"The Wavelength-Oriented Microwave Background Analysis Team (WOMBAT)...\", \"authors\": [\"Jaffe, Andrew H.\"], \"creation_date\": \"1999-03\", \"co-authors\": [\"Gawiser, Eric\", \"Finkbeiner, Douglas\", \"Baker, Joanne C.\", \"Balbi, Amedeo\", \"Davis, Marc\", \"Hanany, Shaul\", \"Holzapfel, William\", \"Krumholz, Mark\", \"Moustakas, Leonidas\", \"Robinson, James\", \"Scannapieco, Evan\", \"Smoot, George F.\", \"Silk, Joseph\"]}`\n",
      "\n",
      "With the ADS API, we are limited to creating metrics on the first author\u2019s publication history because of the response time to such queries. With the INSPIRE-HEP metadata, response time is no longer a factor and we are able to create metrics that use all publications by all authors. For each author, we determine how many publications have been contributed and how many unique collaborators were featured. Inspired by M. E. Newman's work as outlined above, we also create the collaboration network between authors and calculate a network centrality for each author.\n",
      "\n",
      "Due to the large number of authors in the database, computation time and memory are limiting factors. As a result we use Amazon Elastic Map Reduce to reduce the INSPIRE-HEP data. `inspire_centrality/inspire_reduce.py` is a MRJob program which produces the collaboration network from the INSPIRE-HEP data. For each paper, the mapper creates key-value pairs representing each pair of authors and the collaboration strength between them from that paper (defined as $1/(N_{authors} \u2013 1)$). The reducer then outputs the sum of collaborative strengths for each author pair with a nonzero collaboration history. This format allows an author\u2019s lifetime number of collaborators to be determined. As a side effect of the definition of collaborative strength, the number of publications an author has contributed to is simply the sum of that author\u2019s collaborative strengths with all other authors. This reduction takes less than an hour on an `m1.large` instance and we provide sample output below:\n",
      "\n",
      "`\"'Alessio_P\"    {\"Furlan_E\": 0.047619047619047616, \"Keller_L\": 0.047619047619047616, \"Herter_T\": 0.047619047619047616, \"Chen_C\": 0.047619047619047616, \"Watson_D\": 0.047619047619047616, \"Uchida_K\": 0.047619047619047616, \"Morris_P\": 0.047619047619047616, \"Calvet_N\": 0.047619047619047616, \"Green_J\": 0.047619047619047616, \"Hall_P\": 0.047619047619047616, \"Najita_J\": 0.047619047619047616, \"Jura_M\": 0.047619047619047616, \"Sloan_G\": 0.047619047619047616, \"Barry_D\": 0.047619047619047616, \"Forrest_W\": 0.047619047619047616, \"Brandl_B\": 0.047619047619047616, \"Houck_J\": 0.047619047619047616, \"Kemper_F\": 0.047619047619047616, \"Myers_P\": 0.047619047619047616, \"Hartmann_L\": 0.047619047619047616, \"Sargent_B\": 0.047619047619047616} `\n",
      "\n",
      "We note that in this Map Reduce job, papers by large collaborations (more than 50 authors, following Newman\u2019s definition) were excluded. This choice was made because such papers include $N^2$ links, which becomes unmanageable for collaborations like ATLAS or CMS which both have over 300 publications with an author list of over 3000. Authors on these large collaborations still participate in smaller collaborations and are thus still present in the network. In addition, we choose to focus our analysis on papers by smaller collaborations, since the citation counts of very large-scale collaborative publications are likely to follow different patterns.\n",
      "\n",
      "`inspire_graph.py` then takes this MapReduce output and converts it into weighted edge list format for easy integration into the python NetworkX library. Using NetworkX on `fink1`, a machine where the full graph can fit into memory, we calculate the eigenvector centrality of each author, using the collaborative strengths defined above. While other centrality measures may have been interesting to consider as well, we were limited by computational time. `inspire_merge.py` takes each paper in the ArXiv/ADS data and looks up the INSPIRE-HEP metrics (lifetime publications, lifetime collaborations, and centrality) for each author, and augments the data with the average, minimum, and maximum of each metric among that paper's authors.\n",
      "\n",
      "Below we print the head of the final dataframe with all merged data and metrics."
     ]
    },
    {
     "cell_type": "code",
     "collapsed": false,
     "input": [
      "df1 = pd.read_csv('final_df_clean.csv')\n",
      "df1.head()"
     ],
     "language": "python",
     "metadata": {},
     "outputs": [
      {
       "html": [
        "<div style=\"max-height:1000px;max-width:1500px;overflow:auto;\">\n",
        "<table border=\"1\" class=\"dataframe\">\n",
        "  <thead>\n",
        "    <tr style=\"text-align: right;\">\n",
        "      <th></th>\n",
        "      <th>Arxiv_key</th>\n",
        "      <th>Author</th>\n",
        "      <th>Citation_count</th>\n",
        "      <th>Figures</th>\n",
        "      <th>Pages</th>\n",
        "      <th>Pub</th>\n",
        "      <th>Title</th>\n",
        "      <th>Year</th>\n",
        "      <th>Pub_average</th>\n",
        "      <th>Citation_category</th>\n",
        "      <th>h_index</th>\n",
        "      <th>m_index</th>\n",
        "      <th>e_index</th>\n",
        "      <th>i10_index</th>\n",
        "      <th>i100_index</th>\n",
        "      <th>g_index</th>\n",
        "      <th>tori_index</th>\n",
        "      <th>riq_index</th>\n",
        "    </tr>\n",
        "  </thead>\n",
        "  <tbody>\n",
        "    <tr>\n",
        "      <th>0</th>\n",
        "      <td> http://arxiv.org/abs/astro-ph/9305017v1</td>\n",
        "      <td> [u'Zaggia, S. R.', u'Capaccioli, M.', u'Piotto...</td>\n",
        "      <td> 16</td>\n",
        "      <td> 8</td>\n",
        "      <td>  6</td>\n",
        "      <td> Astronomy and Astrophysics</td>\n",
        "      <td> [u'High resolution kinematics of galactic glob...</td>\n",
        "      <td> 1993</td>\n",
        "      <td> 44.746809</td>\n",
        "      <td> 0</td>\n",
        "      <td>  3</td>\n",
        "      <td> 1.5</td>\n",
        "      <td>  5.7</td>\n",
        "      <td>  2</td>\n",
        "      <td> 0</td>\n",
        "      <td>  5</td>\n",
        "      <td>  0.3</td>\n",
        "      <td>  293</td>\n",
        "    </tr>\n",
        "    <tr>\n",
        "      <th>1</th>\n",
        "      <td> http://arxiv.org/abs/astro-ph/9503109v1</td>\n",
        "      <td> [u'de Propris, Roberto', u'Pritchet, Christoph...</td>\n",
        "      <td> 84</td>\n",
        "      <td> 2</td>\n",
        "      <td> 15</td>\n",
        "      <td>  The Astrophysical Journal</td>\n",
        "      <td> [u'Evidence for Steep Luminosity Functions in ...</td>\n",
        "      <td> 1995</td>\n",
        "      <td> 68.212807</td>\n",
        "      <td> 2</td>\n",
        "      <td>  2</td>\n",
        "      <td> 0.7</td>\n",
        "      <td> 10.8</td>\n",
        "      <td>  2</td>\n",
        "      <td> 0</td>\n",
        "      <td>  3</td>\n",
        "      <td>  0.8</td>\n",
        "      <td>  303</td>\n",
        "    </tr>\n",
        "    <tr>\n",
        "      <th>2</th>\n",
        "      <td> http://arxiv.org/abs/astro-ph/9509119v1</td>\n",
        "      <td>                        [u'van den Bergh, Sidney']</td>\n",
        "      <td> 22</td>\n",
        "      <td> 2</td>\n",
        "      <td> 21</td>\n",
        "      <td>   The Astronomical Journal</td>\n",
        "      <td> [u'Some Constraints on Galaxy Evolution Impose...</td>\n",
        "      <td> 1995</td>\n",
        "      <td> 82.620996</td>\n",
        "      <td> 1</td>\n",
        "      <td> 10</td>\n",
        "      <td> 5.0</td>\n",
        "      <td> 14.0</td>\n",
        "      <td> 11</td>\n",
        "      <td> 0</td>\n",
        "      <td> 18</td>\n",
        "      <td>  8.0</td>\n",
        "      <td> 1413</td>\n",
        "    </tr>\n",
        "    <tr>\n",
        "      <th>3</th>\n",
        "      <td> http://arxiv.org/abs/astro-ph/9606066v2</td>\n",
        "      <td>                                  [u'Knox, Lloyd']</td>\n",
        "      <td> 16</td>\n",
        "      <td> 3</td>\n",
        "      <td> 15</td>\n",
        "      <td>  The Astrophysical Journal</td>\n",
        "      <td> [u'Cosmic Microwave Background Anisotropy Obse...</td>\n",
        "      <td> 1997</td>\n",
        "      <td> 68.212807</td>\n",
        "      <td> 0</td>\n",
        "      <td>  6</td>\n",
        "      <td> 0.5</td>\n",
        "      <td> 21.0</td>\n",
        "      <td>  4</td>\n",
        "      <td> 1</td>\n",
        "      <td> 11</td>\n",
        "      <td> 13.1</td>\n",
        "      <td>  278</td>\n",
        "    </tr>\n",
        "    <tr>\n",
        "      <th>4</th>\n",
        "      <td> http://arxiv.org/abs/astro-ph/9407035v1</td>\n",
        "      <td> [u'Jedamzik, Karsten', u'Mathews, Grant J.', u...</td>\n",
        "      <td> 12</td>\n",
        "      <td> 2</td>\n",
        "      <td> 13</td>\n",
        "      <td>  The Astrophysical Journal</td>\n",
        "      <td> [u'Absence of a Lower Limit on Omega B in Inho...</td>\n",
        "      <td> 1995</td>\n",
        "      <td> 68.212807</td>\n",
        "      <td> 0</td>\n",
        "      <td>  4</td>\n",
        "      <td> 1.3</td>\n",
        "      <td> 11.7</td>\n",
        "      <td>  4</td>\n",
        "      <td> 0</td>\n",
        "      <td>  5</td>\n",
        "      <td>  1.7</td>\n",
        "      <td>  438</td>\n",
        "    </tr>\n",
        "  </tbody>\n",
        "</table>\n",
        "</div>"
       ],
       "metadata": {},
       "output_type": "pyout",
       "prompt_number": 15,
       "text": [
        "                                 Arxiv_key  \\\n",
        "0  http://arxiv.org/abs/astro-ph/9305017v1   \n",
        "1  http://arxiv.org/abs/astro-ph/9503109v1   \n",
        "2  http://arxiv.org/abs/astro-ph/9509119v1   \n",
        "3  http://arxiv.org/abs/astro-ph/9606066v2   \n",
        "4  http://arxiv.org/abs/astro-ph/9407035v1   \n",
        "\n",
        "                                              Author  Citation_count  Figures  \\\n",
        "0  [u'Zaggia, S. R.', u'Capaccioli, M.', u'Piotto...              16        8   \n",
        "1  [u'de Propris, Roberto', u'Pritchet, Christoph...              84        2   \n",
        "2                         [u'van den Bergh, Sidney']              22        2   \n",
        "3                                   [u'Knox, Lloyd']              16        3   \n",
        "4  [u'Jedamzik, Karsten', u'Mathews, Grant J.', u...              12        2   \n",
        "\n",
        "   Pages                         Pub  \\\n",
        "0      6  Astronomy and Astrophysics   \n",
        "1     15   The Astrophysical Journal   \n",
        "2     21    The Astronomical Journal   \n",
        "3     15   The Astrophysical Journal   \n",
        "4     13   The Astrophysical Journal   \n",
        "\n",
        "                                               Title  Year  Pub_average  \\\n",
        "0  [u'High resolution kinematics of galactic glob...  1993    44.746809   \n",
        "1  [u'Evidence for Steep Luminosity Functions in ...  1995    68.212807   \n",
        "2  [u'Some Constraints on Galaxy Evolution Impose...  1995    82.620996   \n",
        "3  [u'Cosmic Microwave Background Anisotropy Obse...  1997    68.212807   \n",
        "4  [u'Absence of a Lower Limit on Omega B in Inho...  1995    68.212807   \n",
        "\n",
        "   Citation_category  h_index  m_index  e_index  i10_index  i100_index  \\\n",
        "0                  0        3      1.5      5.7          2           0   \n",
        "1                  2        2      0.7     10.8          2           0   \n",
        "2                  1       10      5.0     14.0         11           0   \n",
        "3                  0        6      0.5     21.0          4           1   \n",
        "4                  0        4      1.3     11.7          4           0   \n",
        "\n",
        "   g_index  tori_index  riq_index  \n",
        "0        5         0.3        293  \n",
        "1        3         0.8        303  \n",
        "2       18         8.0       1413  \n",
        "3       11        13.1        278  \n",
        "4        5         1.7        438  "
       ]
      }
     ],
     "prompt_number": 15
    },
    {
     "cell_type": "heading",
     "level": 2,
     "metadata": {},
     "source": [
      "Exploratory Analysis"
     ]
    },
    {
     "cell_type": "heading",
     "level": 3,
     "metadata": {},
     "source": [
      "Exploratory ArXiv + ADS data analysis"
     ]
    },
    {
     "cell_type": "markdown",
     "metadata": {},
     "source": [
      "We started exploring the initial joined ArXiv+ADS data to investigate trends in citation counts."
     ]
    },
    {
     "cell_type": "code",
     "collapsed": false,
     "input": [
      "# Load in joined ArXiv+ADS data\n",
      "df = pd.read_csv('astro-phstart0max50000.csv')\n",
      "print 'Total initial number of papers: ', len(df.index)"
     ],
     "language": "python",
     "metadata": {},
     "outputs": [
      {
       "output_type": "stream",
       "stream": "stdout",
       "text": [
        "Total initial number of papers:  30605\n"
       ]
      }
     ],
     "prompt_number": 5
    },
    {
     "cell_type": "heading",
     "level": 4,
     "metadata": {},
     "source": [
      "Overall citation count distribution"
     ]
    },
    {
     "cell_type": "code",
     "collapsed": false,
     "input": [
      "# Look at overall citation count distribution\n",
      "cutoff = 150\n",
      "cit_xarr = np.arange(0,cutoff)\n",
      "data = np.array(df.Citation_count[df.Citation_count < cutoff])\n",
      "shape, loc, scale = stats.gamma.fit(data)\n",
      "shape_pl, loc_pl, scale_pl = stats.powerlaw.fit(data)\n",
      "\n",
      "plt.clf()\n",
      "plt.hist(data, bins = 15, normed=True, color='w')\n",
      "l1, = plt.plot(cit_xarr,stats.gamma.pdf(cit_xarr, shape, scale=scale), '-b', linewidth=2.0)\n",
      "l2, = plt.plot(cit_xarr, stats.powerlaw.pdf(cit_xarr, shape_pl, scale=scale_pl), '-g', linewidth=2.0)\n",
      "plt.xlabel(\"Number of citations\")\n",
      "plt.ylabel(\"Normalized frequency\")\n",
      "plt.title(\"Fitted probability distributions\")\n",
      "plt.legend((l1, l2), ('Gamma', 'Power-law'), loc='upper right');"
     ],
     "language": "python",
     "metadata": {},
     "outputs": [
      {
       "metadata": {},
       "output_type": "display_data",
       "png": "[encoded data removed]",
       "text": [
        "<matplotlib.figure.Figure at 0x1186e4810>"
       ]
      }
     ],
     "prompt_number": 202
    },
    {
     "cell_type": "markdown",
     "metadata": {},
     "source": [
      "As we can see in the above histogram, the distribution of citation numbers is bottom-heavy with a tail extending out to high citation numbers. A few papers garner very high citation numbers of the order of 1000 and are not shown here as they are severe outliers. Attempts to fit with a gamma distribution underfit the tail, while a power-law probability distribution function overestimates it. Regardless of the exact functional form of this distribution, this suggests that we will have to be cautious to determine appropriate cutoffs in order to split up the data into balanced classes."
     ]
    },
    {
     "cell_type": "heading",
     "level": 4,
     "metadata": {},
     "source": [
      "Dependence on year, figure and page number"
     ]
    },
    {
     "cell_type": "code",
     "collapsed": false,
     "input": [
      "years_of_interest = np.arange(1990,2010)\n",
      "years_list = []\n",
      "for i in years_of_interest:\n",
      "    subdf = df[df.Year.values == i]\n",
      "    years_list.append(np.array(subdf.Citation_count.values))\n",
      "\n",
      "figs_list = []\n",
      "pages_list = []\n",
      "for i in np.arange(1,30):\n",
      "    subdf1 = df[df.Figures == i]\n",
      "    figs_list.append(np.array(subdf1.Citation_count.values))\n",
      "    subdf2 = df[df.Pages == i]\n",
      "    pages_list.append(np.array(subdf2.Citation_count.values))\n",
      "\n",
      "\n",
      "# Creating boxplots\n",
      "fig = plt.figure(figsize=(20,4))\n",
      "\n",
      "ax1 = fig.add_subplot(131)\n",
      "box = ax1.boxplot(years_list)\n",
      "plt.axis([0,20,0,250])\n",
      "pylab.xticks(np.arange(0,20,5), np.arange(0,20,5)+1990)\n",
      "plt.setp(box['whiskers'], color='black') \n",
      "plt.setp(box['boxes'], color='black') \n",
      "plt.title('Publication year')\n",
      "plt.xlabel(\"Publication year\")\n",
      "plt.ylabel(\"Number of citations\")\n",
      "\n",
      "ax2 = fig.add_subplot(132)\n",
      "box = ax2.boxplot(figs_list)\n",
      "plt.axis([0,30,0,250])\n",
      "pylab.xticks(np.arange(0,30,5), np.arange(0,30,5))\n",
      "plt.setp(box['whiskers'], color='black') \n",
      "plt.setp(box['boxes'], color='black') \n",
      "plt.title('Figures')\n",
      "plt.xlabel(\"Number of figures\")\n",
      "plt.ylabel(\"Number of citations\")\n",
      "\n",
      "ax3 = fig.add_subplot(133)\n",
      "box = ax3.boxplot(pages_list)\n",
      "plt.axis([0,30,0,250])\n",
      "pylab.xticks(np.arange(0,30,5), np.arange(0,30,5))\n",
      "plt.setp(box['whiskers'], color='black') \n",
      "plt.setp(box['boxes'], color='black') \n",
      "plt.title('Pages')\n",
      "plt.xlabel(\"Number of pages\")\n",
      "plt.ylabel(\"Number of citations\")\n",
      "plt.show()"
     ],
     "language": "python",
     "metadata": {},
     "outputs": [
      {
       "metadata": {},
       "output_type": "display_data",
       "png": "[encoded data removed]",
       "text": [
        "<matplotlib.figure.Figure at 0x10c3f1150>"
       ]
      }
     ],
     "prompt_number": 12
    },
    {
     "cell_type": "markdown",
     "metadata": {},
     "source": [
      "The boxplots shown here display the median in red and outliers as blue crosses.\n",
      "The bulk of our corpus of papers spans the year range 1995 to 2005. The false spike in citation number around 2010 is likely the result of the fact that publications were retrieved in order of submission, which may pre-date the publication year (plotted here) significantly, leading to incomplete data after 2005. For the citation count dependence on number of pages and figures, we note that the median citation count goes up as papers include more figures or pages. This suggests that page and figure numbers (or some combination thereof) maybe be relevant features to include in prediction models."
     ]
    },
    {
     "cell_type": "heading",
     "level": 4,
     "metadata": {},
     "source": [
      "Dependence on journal of publication"
     ]
    },
    {
     "cell_type": "markdown",
     "metadata": {},
     "source": [
      "We are interested in seeing whether a paper's journal of publication holds any predictive power in relation to citation counts. To this end we need to categorize journals in a way that reflects their impact factor, for which we can use median citation counts as a proxy. We start by looking into the overall distribution of publications across journals."
     ]
    },
    {
     "cell_type": "code",
     "collapsed": false,
     "input": [
      "journals = df.Pub.drop_duplicates()\n",
      "nb_papers_per_journal = []\n",
      "\n",
      "cutoff = 40\n",
      "\n",
      "# Count all publications for each specific journal \n",
      "for item in journals:\n",
      "    papers = df[df.Pub == item]\n",
      "    nb_papers_per_journal.append(len(papers.index))\n",
      "\n",
      "nb_papers_per_journal = np.array(nb_papers_per_journal)\n",
      "print 'There are ', len(journals), ' journals in the dataset.'\n",
      "print len(big_journals), ' have more than ', cutoff, ' published papers.'\n",
      "\n",
      "fig = plt.figure(figsize=(12,3));\n",
      "ax1 = fig.add_subplot(121);\n",
      "ax1.hist(nb_papers_per_journal, bins = 20, color='c', alpha=0.8);\n",
      "plt.xlabel(\"Number of published papers\");\n",
      "plt.ylabel(\"Number of journals\");\n",
      "plt.title(\"Distribution of papers across all journals\");\n",
      "\n",
      "ax2 = fig.add_subplot(122);\n",
      "ax2.hist(nb_papers_per_journal[nb_papers_per_journal > cutoff], bins = 20, color='g', alpha=0.8);\n",
      "plt.xlabel(\"Number of published papers\");\n",
      "plt.ylabel(\"Number of journals\");\n",
      "plt.title(\"Distribution of papers across journals with >40 papers\");"
     ],
     "language": "python",
     "metadata": {},
     "outputs": [
      {
       "output_type": "stream",
       "stream": "stdout",
       "text": [
        "There are  1049  journals in the dataset.\n",
        "18  have more than  40  published papers.\n"
       ]
      },
      {
       "metadata": {},
       "output_type": "display_data",
       "png": "[encoded data removed]",
       "text": [
        "<matplotlib.figure.Figure at 0x1191fa750>"
       ]
      }
     ],
     "prompt_number": 201
    },
    {
     "cell_type": "markdown",
     "metadata": {},
     "source": [
      "The cyan histogram on the left-hand-side above shows the distribution of published papers across all journals in the dataset. It appears that most journals have published very few papers; many of them are in fact featured only once. A more detailed inspection of the data shows that many of the journals with low publication numbers are conference proceedings or publications in languages other than English. With over 1000 journals across over 30,000 papers, only 416 journals are represented more than 40 times in our dataset. Additionally, even after restricting the data to journals with more than 40 publications (green histogram on right-hand-side), we note that the distribution is still bottom-heavy. <br>\n",
      "Our goal here is to assign a median citation count to each journal as a proxy to its impact factor. Since a median citation count for a journal with only a handful of publications is not meaningful, we choose to divide our dataset into two categories: high and low publication numbers. We find that a cutoff publication number of 40 is high enough to exclude most of the conference proceedings from the high publication number category, while still including important journals with few papers such as *Science* and *Nature*. We proceed by augmenting our dataset by including median citation counts for each paper's journal. For the low publication count category, we assign the median of the median citation counts across all journals in the category, which yields a value of 3."
     ]
    },
    {
     "cell_type": "code",
     "collapsed": false,
     "input": [
      "small_journals, big_journals = [], []\n",
      "\n",
      "# Calculate median citation count for each journal and create categories\n",
      "for item in journals:\n",
      "    papers = df[df.Pub == item]\n",
      "    data = np.array(papers.Citation_count)\n",
      "    median = np.median(data)\n",
      "    if len(papers.index) < cutoff:\n",
      "        small_journals.append([item, median])\n",
      "    if len(papers.index) >= cutoff:\n",
      "        big_journals.append([item, median])\n",
      "\n",
      "big_journals = dict(big_journals)\n",
      "small_journals = dict(small_journals)\n",
      "\n",
      "# Now, calculate journal rating as median citation count\n",
      "journal_rating = []\n",
      "# (For low publication number journals, calculate the overall median)\n",
      "small_journal_median = np.median(small_journals.values())\n",
      "print 'Median citation count for low publication journals: ', small_journal_median\n",
      "\n",
      "for index in range(len(df.index)):\n",
      "    thispaper = df[df.index == index]\n",
      "    thispaper_name = thispaper.Pub.iloc[0]\n",
      "    if thispaper_name in big_journals.keys():\n",
      "        journal_rating.append(big_journals[thispaper_name])\n",
      "    else:\n",
      "        journal_rating.append(small_journal_median)"
     ],
     "language": "python",
     "metadata": {},
     "outputs": [
      {
       "output_type": "stream",
       "stream": "stdout",
       "text": [
        "Median citation count for low publication journals:  3.0\n"
       ]
      }
     ],
     "prompt_number": 26
    },
    {
     "cell_type": "code",
     "collapsed": false,
     "input": [
      "df['Pub_cit_median'] = journal_rating\n",
      "df.head()"
     ],
     "language": "python",
     "metadata": {},
     "outputs": [],
     "prompt_number": 30
    },
    {
     "cell_type": "heading",
     "level": 4,
     "metadata": {},
     "source": [
      "Time trends"
     ]
    },
    {
     "cell_type": "markdown",
     "metadata": {},
     "source": [
      "Does the distribution of citation counts change in time? We check by overplotting the distributions conditioned on the year of publication."
     ]
    },
    {
     "cell_type": "code",
     "collapsed": false,
     "input": [
      "cutoff = 150\n",
      "for year in np.arange(1995,2005):\n",
      "    papers = df[df.Year.values == year]\n",
      "    data = np.array(papers.Citation_count[papers.Citation_count < cutoff])\n",
      "    plt.hist(data,histtype='step',label=str(year),bins=np.arange(0,cutoff,10),normed=True)\n",
      "plt.legend()\n",
      "plt.ylabel('Normalized frequency')\n",
      "plt.xlabel('Number of citations')\n",
      "plt.title(\"Citation count distributions in time\")\n",
      "plt.show()"
     ],
     "language": "python",
     "metadata": {},
     "outputs": [
      {
       "metadata": {},
       "output_type": "display_data",
       "png": "[encoded data removed]",
       "text": [
        "<matplotlib.figure.Figure at 0x10f260110>"
       ]
      }
     ],
     "prompt_number": 146
    },
    {
     "cell_type": "markdown",
     "metadata": {},
     "source": [
      "The normalized distributions appear very similar for each year between 1995 and 2004. At first sight this may be a surprising finding, as papers do gather more citations over time. As a result, the distribution from 1995 may be expected to peak further to the right than the more recent distribution from 2004. However, we note that our dataset spans the years 1995 to 2005, thus even the most recent publications in our corpus have still had a decade to accumulate citations. We can therefore postulate that after a certain amount of time (which we can estimate to be less than ten years according to our data), citation counts settle into the same distribution (with different normalizations depending on the total number of papers published in a given year). From the standpoint of prediction citation counts, this suggests that the year of publication will not strongly affect our predictions and will not be a central feature. "
     ]
    },
    {
     "cell_type": "markdown",
     "metadata": {},
     "source": [
      "Another feature which may impact the citation count of a paper is its number of authors. Because scientists commonly cite their own papers, one could expect that having a longer author list would improve a paper's citation count. Underlying this feature, a variation in time of the length of author lists is to be expected, as collaboration patterns in the fields of physics and astronomy are constantly evolving. We postulate that larger collaborations are becoming more frequent while papers with two authors or less are becoming more rare. "
     ]
    },
    {
     "cell_type": "code",
     "collapsed": false,
     "input": [
      "# Calculate author count for each paper by splitting author string on commas\n",
      "df['author_count']=map(lambda x: len(x.strip('[]').split(','))*1.0/2,df['Author'])"
     ],
     "language": "python",
     "metadata": {},
     "outputs": [],
     "prompt_number": 147
    },
    {
     "cell_type": "code",
     "collapsed": false,
     "input": [
      "single_authors=[]\n",
      "for year in np.arange(1995,2004):\n",
      "    a=0.001\n",
      "    c=[0,0]\n",
      "    for index in range(len(df.index)):\n",
      "        thispaper = df[df.index == index]\n",
      "        if thispaper.Year.values == year:\n",
      "            nbauthors = thispaper.author_count.values\n",
      "            if nbauthors > 2:\n",
      "                c[1]+=1\n",
      "            else:\n",
      "                c[0]+=1\n",
      "            a+=1\n",
      "    single_authors.append([z*1.0/a for z in c])   \n",
      "\n",
      "fig, ax = plt.subplots()\n",
      "plt.plot(np.arange(1995,2004),[s[0] for s in single_authors],'*-',label=\"1 or 2 authors\", linewidth=2)\n",
      "plt.plot(np.arange(1995,2004),[s[1] for s in single_authors],'*-',label=\"more than 2 authors\", linewidth=2)\n",
      "ax.set_xticklabels(np.arange(1995,2004))\n",
      "plt.legend()\n",
      "plt.ylabel('Fraction of papers')\n",
      "plt.xlabel('Year')\n",
      "plt.title(\"Evolution of author counts in time\")\n",
      "plt.show()"
     ],
     "language": "python",
     "metadata": {},
     "outputs": [
      {
       "metadata": {},
       "output_type": "display_data",
       "png": "[encoded data removed]",
       "text": [
        "<matplotlib.figure.Figure at 0x113d99910>"
       ]
      }
     ],
     "prompt_number": 148
    },
    {
     "cell_type": "markdown",
     "metadata": {},
     "source": [
      "It appears that between 1995 and 2003, the number of papers with one or two authors has gone down while larger collaborations (three authors or more) have become more frequent. As a result, if there is a link between citation count and number of authors, the year of publication may play a part as well. Below we investigate the dependence of citation counts on the length of the author list across all papers in the dataset."
     ]
    },
    {
     "cell_type": "code",
     "collapsed": false,
     "input": [
      "to_boxplot = [[], [], [], [], [], []]\n",
      "cutoffs = [0,1,5,20,50,100,200]\n",
      "\n",
      "for index in range(len(df.index)):\n",
      "    thispaper = df[df.index == index]\n",
      "    for j in np.arange(len(to_boxplot)):\n",
      "        if thispaper.author_count.values <= cutoffs[j+1] and thispaper.author_count.values > cutoffs[j]:\n",
      "            to_boxplot[j].append(thispaper.Citation_count.values)\n",
      "\n",
      "plt.figsize=(20,8);\n",
      "box = plt.boxplot(to_boxplot);\n",
      "plt.yscale('log');\n",
      "plt.xticks(range(1,8),[\"<= \"+str(i) for i in cutoffs],rotation=45);\n",
      "plt.xlabel('Number of authors');\n",
      "plt.ylabel('log(citation numbers)');\n",
      "plt.setp(box['whiskers'], color='black') ;\n",
      "plt.setp(box['boxes'], color='black') ;\n",
      "plt.title('Number of citations in relation \\n to the number of authors on the paper');"
     ],
     "language": "python",
     "metadata": {},
     "outputs": [
      {
       "metadata": {},
       "output_type": "display_data",
       "png": "[encoded data removed]",
       "text": [
        "<matplotlib.figure.Figure at 0x113f2bd90>"
       ]
      }
     ],
     "prompt_number": 200
    },
    {
     "cell_type": "markdown",
     "metadata": {},
     "source": [
      "From the above boxplot, it appears that the median citation count increases as the number of authors increases. This suggests that the author count should indeed be included as a predictive feature."
     ]
    },
    {
     "cell_type": "heading",
     "level": 3,
     "metadata": {},
     "source": [
      "Exploratory analysis using INSPIRE-HEP metrics"
     ]
    },
    {
     "cell_type": "markdown",
     "metadata": {},
     "source": [
      "We now explore the outputs of the INSPIRE-HEP network analysis (centrality, number of publications, number of collaborators) to determine what correlation, if any, these metrics have with citation counts. In the INSPIRE-HEP analysis, we identify authors only by their last name and first initial, because the same author may be identified in different ways (eg. Dierickx, Marion from http://inspirehep.net/record/1296789 is the same Dierickx, M from http://inspirehep.net/record/1205271). However, this procedure has the disadvantage of combining separate authors (eg. Portillo, Stephen K N from http://inspirehep.net/record/1298938 is NOT Portillo, Salvador from http://inspirehep.net/record/790900)."
     ]
    },
    {
     "cell_type": "code",
     "collapsed": false,
     "input": [
      "# dictionary from cleaned author name -> centrality \n",
      "centrality = pickle.load(open('inspire_centrality/inspirecentrality'))"
     ],
     "language": "python",
     "metadata": {},
     "outputs": []
    },
    {
     "cell_type": "code",
     "collapsed": false,
     "input": [
      "publications = {}\n",
      "collaborations = {}\n",
      "# parse the raw graph file\n",
      "for line in file('inspire_centrality/inspirereduce'):\n",
      "    parts = line.split('\\t')\n",
      "    author = ast.literal_eval(parts[0])\n",
      "    obj = json.loads(parts[1])\n",
      "    publications[author] = sum(obj.values())\n",
      "    collaborations[author] = len(obj.values())\n",
      "# make a data frame out of each metric's dictionary\n",
      "dfcentrality = pd.DataFrame.from_dict(centrality, orient='index')\n",
      "dfcentrality.columns = ['Centrality']\n",
      "dfpublications = pd.DataFrame.from_dict(publications, orient='index')\n",
      "dfpublications.columns = ['Publications']\n",
      "dfcollaborations = pd.DataFrame.from_dict(collaborations, orient='index')\n",
      "dfcollaborations.columns = ['Collaborations']\n",
      "# merge them together (they all have cleaned author name as index)\n",
      "df2 = dfcentrality.merge(dfpublications, left_index=True, right_index=True)\n",
      "dfauthors = df2.merge(dfcollaborations, left_index=True, right_index=True)\n",
      "dfauthors.head()"
     ],
     "language": "python",
     "metadata": {},
     "outputs": []
    },
    {
     "cell_type": "markdown",
     "metadata": {},
     "source": [
      "\n",
      "These metrics are for individual authors, but to use them to predict citations for a paper, we must somehow combine the metrics for all the authors on that paper. We consider the minimum, average, and maximum of each metric. The maximum could be relevant, as it would reflect the most famous (or most prolific, or most collaborative) member of the collaboration - people may be more likely to pay attention to a paper if it has a famous name on it. The average instead reflects the fraction of the collaboration that is famous - a paper with a few famous names and a few less-famous names may do better than a paper with only one famous name. The minimum is put in mostly for completeness, but maybe having just one total unknown name is detrimental."
     ]
    },
    {
     "cell_type": "code",
     "collapsed": false,
     "input": [
      "astroph = pd.read_csv('INSPIRE_merged_data.csv')\n",
      "astroph.head()"
     ],
     "language": "python",
     "metadata": {},
     "outputs": []
    },
    {
     "cell_type": "heading",
     "level": 4,
     "metadata": {},
     "source": [
      "Centrality"
     ]
    },
    {
     "cell_type": "markdown",
     "metadata": {},
     "source": [
      "Eigenvector centrality works like PageRank, in that having neighbours with high PageRank increases your own PageRank. (In fact, PageRank can be written as a generalization of eigenvector centrality http://en.wikipedia.org/wiki/Centrality#Katz_centrality_and_PageRank). One source (http://www.activatenetworks.net/who-is-central-to-a-social-network-it-depends-on-your-centrality-measure/) describes eigenvector centrality as finding \"big fish in big ponds\". Thus, this centrality measure will pick out people that are central parts of large clusters.\n",
      "\n",
      "Centralities don't exceed $1$, and most authors seem to have very low centralities, so the log of centrality is easier to consider. As we go up in decades of centrality, we encounter fewer and fewer authors. There are a few authors with abnormally low centralities below the lower bound of this graph."
     ]
    },
    {
     "cell_type": "code",
     "collapsed": false,
     "input": [
      "plt.hist(np.log10(centrality.values()), range=(-6,-1), color='g', alpha=0.8)\n",
      "plt.xlabel('Log10 Centrality')\n",
      "plt.ylabel('Number of Authors')\n",
      "plt.title('Centrality Distribution of Authors')\n",
      "plt.show()"
     ],
     "language": "python",
     "metadata": {},
     "outputs": []
    },
    {
     "cell_type": "markdown",
     "metadata": {},
     "source": [
      "Out of curiosity, we looked up several academics that we know. People seem to be stratified in centrality mainly by academic positions: as expected, graduate students have low centrality ($10^{-5}$), then post-docs ($10^{-4}$), and finally professors ($10^{-3}$). The high outliers may be explained by multiple authors sharing that name, like `Miller_G` and `Su_M`."
     ]
    },
    {
     "cell_type": "code",
     "collapsed": false,
     "input": [
      "print \"Students\"\n",
      "students = ['Portillo_S', 'Dierickx_M', 'Miller_G']\n",
      "for x in students:\n",
      "    print x, centrality[x]\n",
      "print \"\\nPostdocs\"\n",
      "postdocs = ['Linden_T', 'Blecha_L', 'Su_M']\n",
      "for x in postdocs:\n",
      "    print x, centrality[x]\n",
      "print \"\\nJunior Profs\"\n",
      "asstprofs = ['Vogelsberger_M', 'Slatyer_T']\n",
      "for x in asstprofs:\n",
      "    print x, centrality[x]\n",
      "print \"\\nTenured Profs\"\n",
      "profs = ['Loeb_A', 'Finkbeiner_D', 'Berger_E']\n",
      "for x in profs:\n",
      "    print x, centrality[x]"
     ],
     "language": "python",
     "metadata": {},
     "outputs": []
    },
    {
     "cell_type": "code",
     "collapsed": false,
     "input": [
      "# We'll want to plot how citation counts depend on these INSPIRE metrics\n",
      "# These metrics (centrality, publications, and collaborators) are better considered on a log scale\n",
      "# since there are many people with low numbers in these metrics, and few people with high numbers\n",
      "# feature: column name in the CSV file\n",
      "# label: nice x-axis label for the plot\n",
      "# log10(min,max), width: used to construct bins for the boxplot\n",
      "def log10astroph_boxplot(feature, label, log10min, log10max, width):\n",
      "    boxplot_list = [] # list of lists to go into boxplot()\n",
      "    bin_cens = np.arange(log10min, log10max+width, width) #construct bin centres, first and last center are log10(min,max)\n",
      "    for bin_cen in bin_cens:\n",
      "        # go +/- width/2. about each centre\n",
      "        subdf = astroph[(astroph[feature] > 10**(bin_cen - width/2.)) & (astroph[feature] < 10**(bin_cen + width/2.))]\n",
      "        boxplot_list.append(subdf['Citation_count'].values)\n",
      "    bp = plt.boxplot(boxplot_list)\n",
      "    # colour scheme stuff\n",
      "    plt.setp(bp['boxes'], color='black')\n",
      "    plt.setp(bp['whiskers'], color='black')\n",
      "    # set x-axis using bin centres\n",
      "    plt.xticks(np.arange(1, len(bin_cens)+1, 1), bin_cens)\n",
      "    # cut off outlier high citation numbers\n",
      "    plt.ylim(0,250)\n",
      "    # nice labels\n",
      "    plt.xlabel('Log10 '+label)\n",
      "    plt.ylabel('Citation Counts')"
     ],
     "language": "python",
     "metadata": {},
     "outputs": []
    },
    {
     "cell_type": "markdown",
     "metadata": {},
     "source": [
      "There do seem to be citation trends with respect to centrality, most strongly with maximum and average centrality. The trend starts as expected, with higher centrality papers getting a higher median number of citations. However, the trend reverses at centrality $10^{-2}$ for an unidentified reason. "
     ]
    },
    {
     "cell_type": "code",
     "collapsed": false,
     "input": [
      "plt.figure(figsize=(20,4))\n",
      "features = ['Max_Cens', 'Avg_Cens', 'Min_Cens']\n",
      "labels = ['Maximum Author Centrality', 'Average Author Centrality', 'Minimum Author Centrality']\n",
      "for i in xrange(len(features)):\n",
      "    plt.subplot('13'+str(i+1))\n",
      "    log10astroph_boxplot(features[i], labels[i], -6, -1, 1)\n",
      "plt.show()"
     ],
     "language": "python",
     "metadata": {},
     "outputs": []
    },
    {
     "cell_type": "markdown",
     "metadata": {},
     "source": [
      "\n",
      "It seems that the most central authors ($10^{\u22121}$) are actually just those with very common names (like Kim_J), so the reversal might occur because authors of centrality $10^{\u22122}$ are actually central, but authors of centrality $10^{\u22121}$ are not actually central but just have the most common names."
     ]
    },
    {
     "cell_type": "code",
     "collapsed": false,
     "input": [
      "max(centrality, key=centrality.get)"
     ],
     "language": "python",
     "metadata": {},
     "outputs": []
    },
    {
     "cell_type": "heading",
     "level": 4,
     "metadata": {},
     "source": [
      "Number of Publications"
     ]
    },
    {
     "cell_type": "markdown",
     "metadata": {},
     "source": [
      "An author's number of publications is a straightforward metric to use. Perhaps even if an author is not central, their visiblility in the literature (as measured by their number of publications) could cause people to pay more attention to their work.\n",
      "There are many people who publish only a few papers, and few people who are very prolific. Centrality is highly correlated with prolificacy, but the correlation becomes wider at low publication numbers. That is, if an author has many publications, they are probably central, but it is possible to be central without having many publications."
     ]
    },
    {
     "cell_type": "code",
     "collapsed": false,
     "input": [
      "plt.figure(figsize=(14,4))\n",
      "plt.subplot('121')\n",
      "plt.hist(np.log10(publications.values()), range=(0,3), color='g', alpha=0.8)\n",
      "plt.xlabel('Log10 Publications')\n",
      "plt.ylabel('Number of Authors')\n",
      "plt.subplot('122')\n",
      "plt.scatter(np.log10(dfauthors['Publications']), np.log10(dfauthors['Centrality']), color='g')\n",
      "plt.ylim(-6,0)\n",
      "plt.xlim(-0.5,3.5)\n",
      "plt.xlabel('Log10 Publications')\n",
      "plt.ylabel('Log10 Centrality')\n",
      "plt.show()"
     ],
     "language": "python",
     "metadata": {},
     "outputs": []
    },
    {
     "cell_type": "markdown",
     "metadata": {},
     "source": [
      "\n",
      "There also seem to be trends in median citation number with author publication number, again most strongly in the maximum and average. In the average, the trend reverses after $10^{2.5}=316$ papers. There are few papers with this high of an average author publication number, so this reversal might be an incompleteness effect. However, in the maximum, the trend is monotonic. This trend makes sense: papers benefit from the presence of a prolific author (who is probably more experienced scientifically and is well-respected)."
     ]
    },
    {
     "cell_type": "code",
     "collapsed": false,
     "input": [
      "plt.figure(figsize=(20,4))\n",
      "features = ['Max_Pubs', 'Avg_Pubs', 'Min_Pubs']\n",
      "labels = ['Maximum Author Publications', 'Average Author Publications', 'Minimum Author Publications']\n",
      "for i in xrange(len(features)):\n",
      "    plt.subplot('13'+str(i+1))\n",
      "    log10astroph_boxplot(features[i], labels[i], 0, 3, 0.5)\n",
      "plt.show()"
     ],
     "language": "python",
     "metadata": {},
     "outputs": []
    },
    {
     "cell_type": "markdown",
     "metadata": {},
     "source": [
      "\n",
      "The papers with the highest average number of author publications seem to be papers where all authors (or the only author) has a common name. Just like centrality, authors with $10^{2.5}$ publications may be actual prolific authors, while those with higher numbers are just common names."
     ]
    },
    {
     "cell_type": "code",
     "collapsed": false,
     "input": [
      "astroph.loc[astroph['Avg_Pubs'].idxmax()]"
     ],
     "language": "python",
     "metadata": {},
     "outputs": [
      {
       "ename": "NameError",
       "evalue": "name 'astroph' is not defined",
       "output_type": "pyerr",
       "traceback": [
        "\u001b[0;31m---------------------------------------------------------------------------\u001b[0m\n\u001b[0;31mNameError\u001b[0m                                 Traceback (most recent call last)",
        "\u001b[0;32m<ipython-input-3-78a945f82c33>\u001b[0m in \u001b[0;36m<module>\u001b[0;34m()\u001b[0m\n\u001b[0;32m----> 1\u001b[0;31m \u001b[0mastroph\u001b[0m\u001b[0;34m.\u001b[0m\u001b[0mloc\u001b[0m\u001b[0;34m[\u001b[0m\u001b[0mastroph\u001b[0m\u001b[0;34m[\u001b[0m\u001b[0;34m'Avg_Pubs'\u001b[0m\u001b[0;34m]\u001b[0m\u001b[0;34m.\u001b[0m\u001b[0midxmax\u001b[0m\u001b[0;34m(\u001b[0m\u001b[0;34m)\u001b[0m\u001b[0;34m]\u001b[0m\u001b[0;34m\u001b[0m\u001b[0m\n\u001b[0m",
        "\u001b[0;31mNameError\u001b[0m: name 'astroph' is not defined"
       ]
      }
     ],
     "prompt_number": 3
    },
    {
     "cell_type": "heading",
     "level": 4,
     "metadata": {},
     "source": [
      "Number of collaborations"
     ]
    },
    {
     "cell_type": "markdown",
     "metadata": {},
     "source": [
      "\n",
      "An author's number of collaborations, that is, the number of unique people they have ever appeared on a paper with, may also be an interesting feature to consider. More collaborative authors may be more well-known in the field in general because they have worked closely with more people.\n",
      "Some authors have not worked with many other people, most authors have worked with a moderate (10) number of collaborators, and very few authors have worked with larger numbers of collaborators. Again, centrality and collaborations are correlated, but it is possible to be central with few collaborators (presumably, one must have written a lot of papers with people who are themselves well-connected)."
     ]
    },
    {
     "cell_type": "code",
     "collapsed": false,
     "input": [
      "plt.figure(figsize=(14,4))\n",
      "plt.subplot('121')\n",
      "plt.hist(np.log10(collaborations.values()), range=(0,3), color='g', alpha=0.8)\n",
      "plt.xlabel('Log10 Collaborations')\n",
      "plt.ylabel('Number of Authors')\n",
      "plt.subplot('122')\n",
      "plt.scatter(np.log10(dfauthors['Collaborations']), np.log10(dfauthors['Centrality']), color='g')\n",
      "plt.ylim(-6,0)\n",
      "plt.xlim(-0.5,3.5)\n",
      "plt.xlabel('Log10 Collaborations')\n",
      "plt.ylabel('Log10 Centrality')\n",
      "plt.show()"
     ],
     "language": "python",
     "metadata": {},
     "outputs": []
    },
    {
     "cell_type": "markdown",
     "metadata": {},
     "source": [
      "\n",
      "In both the maximum and average author number of collaborations, median citation count rises with author collaboration number. Having one very connected author, or having a more connected list of authors, seems to benefit a paper."
     ]
    },
    {
     "cell_type": "code",
     "collapsed": false,
     "input": [
      "plt.figure(figsize=(20,4))\n",
      "features = ['Max_Cols', 'Avg_Cols', 'Min_Cols']\n",
      "labels = ['Maximum Author Collaborations', 'Average Author Collaborations', 'Minimum Author Collaborations']\n",
      "for i in xrange(len(features)):\n",
      "    plt.subplot('13'+str(i+1))\n",
      "    log10astroph_boxplot(features[i], labels[i], 0, 3, 0.5)\n",
      "plt.show()"
     ],
     "language": "python",
     "metadata": {},
     "outputs": []
    },
    {
     "cell_type": "code",
     "collapsed": false,
     "input": [],
     "language": "python",
     "metadata": {},
     "outputs": []
    },
    {
     "cell_type": "code",
     "collapsed": false,
     "input": [],
     "language": "python",
     "metadata": {},
     "outputs": []
    },
    {
     "cell_type": "code",
     "collapsed": false,
     "input": [],
     "language": "python",
     "metadata": {},
     "outputs": []
    },
    {
     "cell_type": "code",
     "collapsed": false,
     "input": [],
     "language": "python",
     "metadata": {},
     "outputs": []
    },
    {
     "cell_type": "code",
     "collapsed": false,
     "input": [],
     "language": "python",
     "metadata": {},
     "outputs": []
    },
    {
     "cell_type": "code",
     "collapsed": false,
     "input": [],
     "language": "python",
     "metadata": {},
     "outputs": []
    },
    {
     "cell_type": "code",
     "collapsed": false,
     "input": [],
     "language": "python",
     "metadata": {},
     "outputs": []
    },
    {
     "cell_type": "heading",
     "level": 2,
     "metadata": {},
     "source": [
      "Final Analysis"
     ]
    },
    {
     "cell_type": "code",
     "collapsed": false,
     "input": [
      "df.head()"
     ],
     "language": "python",
     "metadata": {},
     "outputs": [
      {
       "html": [
        "<div style=\"max-height:1000px;max-width:1500px;overflow:auto;\">\n",
        "<table border=\"1\" class=\"dataframe\">\n",
        "  <thead>\n",
        "    <tr style=\"text-align: right;\">\n",
        "      <th></th>\n",
        "      <th>Arxiv_key</th>\n",
        "      <th>Author</th>\n",
        "      <th>Citation_count</th>\n",
        "      <th>Figures</th>\n",
        "      <th>Pages</th>\n",
        "      <th>Pub</th>\n",
        "      <th>Title</th>\n",
        "      <th>Year</th>\n",
        "      <th>Pub_cit_median</th>\n",
        "    </tr>\n",
        "  </thead>\n",
        "  <tbody>\n",
        "    <tr>\n",
        "      <th>0</th>\n",
        "      <td> http://arxiv.org/abs/astro-ph/9504075v1</td>\n",
        "      <td> [u'Fenimore, E. E.', u\"in 't Zand, J. J. M.\", ...</td>\n",
        "      <td> 190</td>\n",
        "      <td>NaN</td>\n",
        "      <td> 19</td>\n",
        "      <td>                         The Astrophysical Journal</td>\n",
        "      <td> [u'Gamma-Ray Burst Peak Duration as a Function...</td>\n",
        "      <td> 1995</td>\n",
        "      <td> 41</td>\n",
        "    </tr>\n",
        "    <tr>\n",
        "      <th>1</th>\n",
        "      <td>   http://arxiv.org/abs/hep-ph/9306247v1</td>\n",
        "      <td>                          [u'Krauss, Lawrence M.']</td>\n",
        "      <td>   0</td>\n",
        "      <td>NaN</td>\n",
        "      <td> 16</td>\n",
        "      <td>                                    ArXiv e-prints</td>\n",
        "      <td> [u'The Impact of COBE on Inflation, Dark Matte...</td>\n",
        "      <td> 1993</td>\n",
        "      <td>  1</td>\n",
        "    </tr>\n",
        "    <tr>\n",
        "      <th>2</th>\n",
        "      <td> http://arxiv.org/abs/astro-ph/9305017v1</td>\n",
        "      <td> [u'Zaggia, S. R.', u'Capaccioli, M.', u'Piotto...</td>\n",
        "      <td>  16</td>\n",
        "      <td>  8</td>\n",
        "      <td>  6</td>\n",
        "      <td>                        Astronomy and Astrophysics</td>\n",
        "      <td> [u'High resolution kinematics of galactic glob...</td>\n",
        "      <td> 1993</td>\n",
        "      <td> 27</td>\n",
        "    </tr>\n",
        "    <tr>\n",
        "      <th>3</th>\n",
        "      <td> http://arxiv.org/abs/astro-ph/9406070v1</td>\n",
        "      <td>               [u'Pijpers, F. P.', u'Wanders, I.']</td>\n",
        "      <td>  26</td>\n",
        "      <td>NaN</td>\n",
        "      <td> 16</td>\n",
        "      <td> Monthly Notices of the Royal Astronomical Society</td>\n",
        "      <td> [u'Reverberation mapping of active galactic nu...</td>\n",
        "      <td> 1994</td>\n",
        "      <td> 32</td>\n",
        "    </tr>\n",
        "    <tr>\n",
        "      <th>4</th>\n",
        "      <td> http://arxiv.org/abs/astro-ph/9509101v1</td>\n",
        "      <td>      [u'van Kerkwijk, M. H.', u'Kulkarni, S. R.']</td>\n",
        "      <td>  23</td>\n",
        "      <td>NaN</td>\n",
        "      <td>  6</td>\n",
        "      <td>                         The Astrophysical Journal</td>\n",
        "      <td> [u'Spectroscopy of the White Dwarf Companions ...</td>\n",
        "      <td> 1995</td>\n",
        "      <td> 41</td>\n",
        "    </tr>\n",
        "  </tbody>\n",
        "</table>\n",
        "</div>"
       ],
       "metadata": {},
       "output_type": "pyout",
       "prompt_number": 43,
       "text": [
        "                                 Arxiv_key  \\\n",
        "0  http://arxiv.org/abs/astro-ph/9504075v1   \n",
        "1    http://arxiv.org/abs/hep-ph/9306247v1   \n",
        "2  http://arxiv.org/abs/astro-ph/9305017v1   \n",
        "3  http://arxiv.org/abs/astro-ph/9406070v1   \n",
        "4  http://arxiv.org/abs/astro-ph/9509101v1   \n",
        "\n",
        "                                              Author  Citation_count  Figures  \\\n",
        "0  [u'Fenimore, E. E.', u\"in 't Zand, J. J. M.\", ...             190      NaN   \n",
        "1                           [u'Krauss, Lawrence M.']               0      NaN   \n",
        "2  [u'Zaggia, S. R.', u'Capaccioli, M.', u'Piotto...              16        8   \n",
        "3                [u'Pijpers, F. P.', u'Wanders, I.']              26      NaN   \n",
        "4       [u'van Kerkwijk, M. H.', u'Kulkarni, S. R.']              23      NaN   \n",
        "\n",
        "   Pages                                                Pub  \\\n",
        "0     19                          The Astrophysical Journal   \n",
        "1     16                                     ArXiv e-prints   \n",
        "2      6                         Astronomy and Astrophysics   \n",
        "3     16  Monthly Notices of the Royal Astronomical Society   \n",
        "4      6                          The Astrophysical Journal   \n",
        "\n",
        "                                               Title  Year  Pub_cit_median  \n",
        "0  [u'Gamma-Ray Burst Peak Duration as a Function...  1995              41  \n",
        "1  [u'The Impact of COBE on Inflation, Dark Matte...  1993               1  \n",
        "2  [u'High resolution kinematics of galactic glob...  1993              27  \n",
        "3  [u'Reverberation mapping of active galactic nu...  1994              32  \n",
        "4  [u'Spectroscopy of the White Dwarf Companions ...  1995              41  "
       ]
      }
     ],
     "prompt_number": 43
    },
    {
     "cell_type": "code",
     "collapsed": false,
     "input": [],
     "language": "python",
     "metadata": {},
     "outputs": []
    }
   ],
   "metadata": {}
  }
 ]
}