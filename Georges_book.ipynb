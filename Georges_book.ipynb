{
 "metadata": {
  "name": "",
  "signature": "sha256:a9641b85b6139b975371b63c45a3d5ad1d4fed54b4d3c8f6bd93ff9ef4d1855f"
 },
 "nbformat": 3,
 "nbformat_minor": 0,
 "worksheets": [
  {
   "cells": [
    {
     "cell_type": "code",
     "collapsed": false,
     "input": [
      "import ads\n",
      "import pandas as pd\n",
      "import cPickle as pickle\n",
      "import numpy as np\n",
      "import matplotlib.pyplot as plt\n",
      "import pylab\n",
      "import math as math\n",
      "import scipy.stats as stats\n",
      "import nltk\n",
      "import ast\n",
      "import time\n",
      "import urllib2\n",
      "import requests\n",
      "from sklearn import svm\n",
      "from sklearn import linear_model\n",
      "from sklearn import cross_validation\n",
      "from sklearn import grid_search\n",
      "from sklearn import preprocessing\n",
      "from sklearn.ensemble import RandomForestClassifier\n",
      "from sklearn.ensemble import GradientBoostingClassifier\n",
      "from sklearn.ensemble import GradientBoostingRegressor\n",
      "from sklearn.ensemble import AdaBoostClassifier\n",
      "import sklearn.neighbors\n",
      "from scipy.stats.stats import pearsonr\n",
      "%matplotlib inline "
     ],
     "language": "python",
     "metadata": {},
     "outputs": [],
     "prompt_number": 1
    },
    {
     "cell_type": "code",
     "collapsed": false,
     "input": [
      "# Load data from existing csv\n",
      "df = pd.read_csv('astro-phstart0max50000.csv')"
     ],
     "language": "python",
     "metadata": {},
     "outputs": [],
     "prompt_number": 6
    },
    {
     "cell_type": "code",
     "collapsed": false,
     "input": [
      "new_df = df[[(a and b) and c for a,b,c in \\\n",
      "    zip(np.isfinite(df.Figures),np.isfinite(df.Pages),np.isfinite(df.Citation_count))]]"
     ],
     "language": "python",
     "metadata": {},
     "outputs": [],
     "prompt_number": 7
    },
    {
     "cell_type": "code",
     "collapsed": false,
     "input": [
      "good_pubs = []\n",
      "options = {}\n",
      "for pub in new_df.Pub.unique():\n",
      "    if new_df[new_df.Pub == pub].Citation_count.mean() > 5\\\n",
      "    and len(new_df[new_df.Pub == pub]) > 5:\n",
      "        good_pubs.append(pub)\n",
      "        options[pub] = new_df[new_df.Pub == pub].Citation_count.mean()\n",
      "#pubs = array(pubs,dtype=[('number',int),('journal',(str,50))])"
     ],
     "language": "python",
     "metadata": {},
     "outputs": [],
     "prompt_number": 8
    },
    {
     "cell_type": "code",
     "collapsed": false,
     "input": [
      "def parse_pub(label):\n",
      "    return options[label]"
     ],
     "language": "python",
     "metadata": {},
     "outputs": [],
     "prompt_number": 9
    },
    {
     "cell_type": "code",
     "collapsed": false,
     "input": [
      "good_df = new_df[new_df['Pub'].map(lambda x: x in options.keys())]"
     ],
     "language": "python",
     "metadata": {},
     "outputs": [],
     "prompt_number": 10
    },
    {
     "cell_type": "code",
     "collapsed": false,
     "input": [
      "good_df['Pub_average'] = good_df.Pub.map(parse_pub)"
     ],
     "language": "python",
     "metadata": {},
     "outputs": [],
     "prompt_number": 11
    },
    {
     "cell_type": "code",
     "collapsed": false,
     "input": [
      "def citation_crit(cit):\n",
      "    if cit < 15:\n",
      "        return 0\n",
      "    elif cit >=15 and cit <45:\n",
      "        return 1\n",
      "    elif cit >=45:\n",
      "        return 2"
     ],
     "language": "python",
     "metadata": {},
     "outputs": [],
     "prompt_number": 12
    },
    {
     "cell_type": "code",
     "collapsed": false,
     "input": [
      "good_df['Citation_category'] = good_df.Citation_count.map(citation_crit)"
     ],
     "language": "python",
     "metadata": {},
     "outputs": [],
     "prompt_number": 13
    },
    {
     "cell_type": "code",
     "collapsed": false,
     "input": [
      "good_df = good_df.reset_index(drop=True)"
     ],
     "language": "python",
     "metadata": {},
     "outputs": [],
     "prompt_number": 14
    },
    {
     "cell_type": "code",
     "collapsed": false,
     "input": [
      "# Stopped on 9000\n",
      "for i,ent in good_df.iterrows():\n",
      "#for i,ent in good_df[[not(a) for a in np.isfinite(good_df.h_index)]].iterrows():\n",
      "#     if ent.Arxiv_key in list(old_df.Arxiv_key):\n",
      "#             same = old_df[old_df.Arxiv_key == ent.Arxiv_key]\n",
      "#             good_df.loc[i,'h_index'] = same['h_index'].values[0]\n",
      "#             good_df.loc[i,'m_index'] = same['m_index'].values[0]\n",
      "#             good_df.loc[i,'e_index'] = same['e_index'].values[0]\n",
      "#             good_df.loc[i,'i10_index'] = same['i10_index'].values[0]\n",
      "#             good_df.loc[i,'i100_index'] = same['i100_index'].values[0]\n",
      "#             good_df.loc[i,'g_index'] = same['g_index'].values[0]\n",
      "#             good_df.loc[i,'tori_index'] = same['tori_index'].values[0]\n",
      "#             good_df.loc[i,'riq_index'] = same['riq_index'].values[0]\n",
      "#     else:\n",
      "        first_author = ast.literal_eval(ent.Author)[0]\n",
      "        print i\n",
      "        try:\n",
      "            ads_paper = list(ads.query(title=ast.literal_eval(ent.Title)[0]))[0]\n",
      "        except requests.exceptions.HTTPError:\n",
      "            print 'url error'\n",
      "            time.sleep(1)\n",
      "            print 'slept'\n",
      "            try:\n",
      "                ads_paper = list(ads.query(title=ast.literal_eval(ent.Title)[0]))[0]\n",
      "            except Exception as e:\n",
      "                print i,e\n",
      "                continue\n",
      "        except Exception as e:\n",
      "            print i,e\n",
      "            continue\n",
      "        pub_date = ads_paper.pubdate\n",
      "        try:\n",
      "            metrics = ads.metrics(author='^%s' % first_author,dates=('*','%s' % pub_date[:4]))\n",
      "        except requests.exceptions.HTTPError:\n",
      "            print 'url error'\n",
      "            time.sleep(1)\n",
      "            print 'slept'\n",
      "            try:\n",
      "                metrics = ads.metrics(author='^%s' % first_author,dates=('*','%s' % pub_date[:4]))\n",
      "            except Exception as e:\n",
      "                print i,e\n",
      "                continue\n",
      "        except Exception as e:\n",
      "            print i,e\n",
      "            continue\n",
      "        all_stats = metrics[0]['all_stats']\n",
      "        good_df.loc[i,'h_index'] = float(all_stats['H-index'])\n",
      "        good_df.loc[i,'m_index'] = float(all_stats['m-index'])\n",
      "        good_df.loc[i,'e_index'] = float(all_stats['e-index'])\n",
      "        good_df.loc[i,'i10_index'] = float(all_stats['i10-index'])\n",
      "        good_df.loc[i,'i100_index'] = float(all_stats['i100-index'])\n",
      "        good_df.loc[i,'g_index'] = float(all_stats['g-index'])\n",
      "        good_df.loc[i,'tori_index'] = float(all_stats['tori_index'])\n",
      "        good_df.loc[i,'riq_index'] = float(all_stats['roq_index'])"
     ],
     "language": "python",
     "metadata": {},
     "outputs": [
      {
       "output_type": "stream",
       "stream": "stdout",
       "text": [
        "0\n",
        "1"
       ]
      },
      {
       "output_type": "stream",
       "stream": "stdout",
       "text": [
        "\n",
        "2"
       ]
      },
      {
       "output_type": "stream",
       "stream": "stdout",
       "text": [
        "\n",
        "3"
       ]
      },
      {
       "output_type": "stream",
       "stream": "stdout",
       "text": [
        "\n",
        "4"
       ]
      },
      {
       "output_type": "stream",
       "stream": "stdout",
       "text": [
        "\n",
        "5"
       ]
      },
      {
       "output_type": "stream",
       "stream": "stdout",
       "text": [
        "\n",
        "6"
       ]
      },
      {
       "output_type": "stream",
       "stream": "stdout",
       "text": [
        "\n",
        "7"
       ]
      },
      {
       "output_type": "stream",
       "stream": "stdout",
       "text": [
        "\n"
       ]
      },
      {
       "ename": "KeyboardInterrupt",
       "evalue": "",
       "output_type": "pyerr",
       "traceback": [
        "\u001b[0;31m---------------------------------------------------------------------------\u001b[0m\n\u001b[0;31mKeyboardInterrupt\u001b[0m                         Traceback (most recent call last)",
        "\u001b[0;32m<ipython-input-457-a15bc7f712bc>\u001b[0m in \u001b[0;36m<module>\u001b[0;34m()\u001b[0m\n",
        "\u001b[0;32m//anaconda/lib/python2.7/site-packages/ads/core.pyc\u001b[0m in \u001b[0;36mmetrics\u001b[0;34m(author, dates, database, rows, metadata)\u001b[0m\n\u001b[1;32m    411\u001b[0m \u001b[0;34m\u001b[0m\u001b[0m\n\u001b[1;32m    412\u001b[0m     \u001b[0mpayload\u001b[0m \u001b[0;34m=\u001b[0m \u001b[0m_build_payload\u001b[0m\u001b[0;34m(\u001b[0m\u001b[0mauthors\u001b[0m\u001b[0;34m=\u001b[0m\u001b[0mauthor\u001b[0m\u001b[0;34m,\u001b[0m \u001b[0mdatabase\u001b[0m\u001b[0;34m=\u001b[0m\u001b[0mdatabase\u001b[0m\u001b[0;34m,\u001b[0m \u001b[0mrows\u001b[0m\u001b[0;34m=\u001b[0m\u001b[0mrows\u001b[0m\u001b[0;34m,\u001b[0m \u001b[0mdates\u001b[0m\u001b[0;34m=\u001b[0m\u001b[0mdates\u001b[0m\u001b[0;34m)\u001b[0m\u001b[0;34m\u001b[0m\u001b[0m\n\u001b[0;32m--> 413\u001b[0;31m     \u001b[0mr\u001b[0m \u001b[0;34m=\u001b[0m \u001b[0mrequests\u001b[0m\u001b[0;34m.\u001b[0m\u001b[0mget\u001b[0m\u001b[0;34m(\u001b[0m\u001b[0mADS_HOST\u001b[0m \u001b[0;34m+\u001b[0m \u001b[0;34m\"/search/metrics/\"\u001b[0m\u001b[0;34m,\u001b[0m \u001b[0mparams\u001b[0m\u001b[0;34m=\u001b[0m\u001b[0mpayload\u001b[0m\u001b[0;34m)\u001b[0m\u001b[0;34m\u001b[0m\u001b[0m\n\u001b[0m\u001b[1;32m    414\u001b[0m     \u001b[0;32mif\u001b[0m \u001b[0;32mnot\u001b[0m \u001b[0mr\u001b[0m\u001b[0;34m.\u001b[0m\u001b[0mok\u001b[0m\u001b[0;34m:\u001b[0m \u001b[0mr\u001b[0m\u001b[0;34m.\u001b[0m\u001b[0mraise_for_status\u001b[0m\u001b[0;34m(\u001b[0m\u001b[0;34m)\u001b[0m\u001b[0;34m\u001b[0m\u001b[0m\n\u001b[1;32m    415\u001b[0m \u001b[0;34m\u001b[0m\u001b[0m\n",
        "\u001b[0;32m//anaconda/lib/python2.7/site-packages/requests/api.pyc\u001b[0m in \u001b[0;36mget\u001b[0;34m(url, **kwargs)\u001b[0m\n\u001b[1;32m     53\u001b[0m \u001b[0;34m\u001b[0m\u001b[0m\n\u001b[1;32m     54\u001b[0m     \u001b[0mkwargs\u001b[0m\u001b[0;34m.\u001b[0m\u001b[0msetdefault\u001b[0m\u001b[0;34m(\u001b[0m\u001b[0;34m'allow_redirects'\u001b[0m\u001b[0;34m,\u001b[0m \u001b[0mTrue\u001b[0m\u001b[0;34m)\u001b[0m\u001b[0;34m\u001b[0m\u001b[0m\n\u001b[0;32m---> 55\u001b[0;31m     \u001b[0;32mreturn\u001b[0m \u001b[0mrequest\u001b[0m\u001b[0;34m(\u001b[0m\u001b[0;34m'get'\u001b[0m\u001b[0;34m,\u001b[0m \u001b[0murl\u001b[0m\u001b[0;34m,\u001b[0m \u001b[0;34m**\u001b[0m\u001b[0mkwargs\u001b[0m\u001b[0;34m)\u001b[0m\u001b[0;34m\u001b[0m\u001b[0m\n\u001b[0m\u001b[1;32m     56\u001b[0m \u001b[0;34m\u001b[0m\u001b[0m\n\u001b[1;32m     57\u001b[0m \u001b[0;34m\u001b[0m\u001b[0m\n",
        "\u001b[0;32m//anaconda/lib/python2.7/site-packages/requests/api.pyc\u001b[0m in \u001b[0;36mrequest\u001b[0;34m(method, url, **kwargs)\u001b[0m\n\u001b[1;32m     42\u001b[0m \u001b[0;34m\u001b[0m\u001b[0m\n\u001b[1;32m     43\u001b[0m     \u001b[0msession\u001b[0m \u001b[0;34m=\u001b[0m \u001b[0msessions\u001b[0m\u001b[0;34m.\u001b[0m\u001b[0mSession\u001b[0m\u001b[0;34m(\u001b[0m\u001b[0;34m)\u001b[0m\u001b[0;34m\u001b[0m\u001b[0m\n\u001b[0;32m---> 44\u001b[0;31m     \u001b[0;32mreturn\u001b[0m \u001b[0msession\u001b[0m\u001b[0;34m.\u001b[0m\u001b[0mrequest\u001b[0m\u001b[0;34m(\u001b[0m\u001b[0mmethod\u001b[0m\u001b[0;34m=\u001b[0m\u001b[0mmethod\u001b[0m\u001b[0;34m,\u001b[0m \u001b[0murl\u001b[0m\u001b[0;34m=\u001b[0m\u001b[0murl\u001b[0m\u001b[0;34m,\u001b[0m \u001b[0;34m**\u001b[0m\u001b[0mkwargs\u001b[0m\u001b[0;34m)\u001b[0m\u001b[0;34m\u001b[0m\u001b[0m\n\u001b[0m\u001b[1;32m     45\u001b[0m \u001b[0;34m\u001b[0m\u001b[0m\n\u001b[1;32m     46\u001b[0m \u001b[0;34m\u001b[0m\u001b[0m\n",
        "\u001b[0;32m//anaconda/lib/python2.7/site-packages/requests/sessions.pyc\u001b[0m in \u001b[0;36mrequest\u001b[0;34m(self, method, url, params, data, headers, cookies, files, auth, timeout, allow_redirects, proxies, hooks, stream, verify, cert)\u001b[0m\n\u001b[1;32m    454\u001b[0m             \u001b[0;34m'allow_redirects'\u001b[0m\u001b[0;34m:\u001b[0m \u001b[0mallow_redirects\u001b[0m\u001b[0;34m,\u001b[0m\u001b[0;34m\u001b[0m\u001b[0m\n\u001b[1;32m    455\u001b[0m         }\n\u001b[0;32m--> 456\u001b[0;31m         \u001b[0mresp\u001b[0m \u001b[0;34m=\u001b[0m \u001b[0mself\u001b[0m\u001b[0;34m.\u001b[0m\u001b[0msend\u001b[0m\u001b[0;34m(\u001b[0m\u001b[0mprep\u001b[0m\u001b[0;34m,\u001b[0m \u001b[0;34m**\u001b[0m\u001b[0msend_kwargs\u001b[0m\u001b[0;34m)\u001b[0m\u001b[0;34m\u001b[0m\u001b[0m\n\u001b[0m\u001b[1;32m    457\u001b[0m \u001b[0;34m\u001b[0m\u001b[0m\n\u001b[1;32m    458\u001b[0m         \u001b[0;32mreturn\u001b[0m \u001b[0mresp\u001b[0m\u001b[0;34m\u001b[0m\u001b[0m\n",
        "\u001b[0;32m//anaconda/lib/python2.7/site-packages/requests/sessions.pyc\u001b[0m in \u001b[0;36msend\u001b[0;34m(self, request, **kwargs)\u001b[0m\n\u001b[1;32m    557\u001b[0m \u001b[0;34m\u001b[0m\u001b[0m\n\u001b[1;32m    558\u001b[0m         \u001b[0;31m# Send the request\u001b[0m\u001b[0;34m\u001b[0m\u001b[0;34m\u001b[0m\u001b[0m\n\u001b[0;32m--> 559\u001b[0;31m         \u001b[0mr\u001b[0m \u001b[0;34m=\u001b[0m \u001b[0madapter\u001b[0m\u001b[0;34m.\u001b[0m\u001b[0msend\u001b[0m\u001b[0;34m(\u001b[0m\u001b[0mrequest\u001b[0m\u001b[0;34m,\u001b[0m \u001b[0;34m**\u001b[0m\u001b[0mkwargs\u001b[0m\u001b[0;34m)\u001b[0m\u001b[0;34m\u001b[0m\u001b[0m\n\u001b[0m\u001b[1;32m    560\u001b[0m \u001b[0;34m\u001b[0m\u001b[0m\n\u001b[1;32m    561\u001b[0m         \u001b[0;31m# Total elapsed time of the request (approximately)\u001b[0m\u001b[0;34m\u001b[0m\u001b[0;34m\u001b[0m\u001b[0m\n",
        "\u001b[0;32m//anaconda/lib/python2.7/site-packages/requests/adapters.pyc\u001b[0m in \u001b[0;36msend\u001b[0;34m(self, request, stream, timeout, verify, cert, proxies)\u001b[0m\n\u001b[1;32m    325\u001b[0m                     \u001b[0mdecode_content\u001b[0m\u001b[0;34m=\u001b[0m\u001b[0mFalse\u001b[0m\u001b[0;34m,\u001b[0m\u001b[0;34m\u001b[0m\u001b[0m\n\u001b[1;32m    326\u001b[0m                     \u001b[0mretries\u001b[0m\u001b[0;34m=\u001b[0m\u001b[0mself\u001b[0m\u001b[0;34m.\u001b[0m\u001b[0mmax_retries\u001b[0m\u001b[0;34m,\u001b[0m\u001b[0;34m\u001b[0m\u001b[0m\n\u001b[0;32m--> 327\u001b[0;31m                     \u001b[0mtimeout\u001b[0m\u001b[0;34m=\u001b[0m\u001b[0mtimeout\u001b[0m\u001b[0;34m\u001b[0m\u001b[0m\n\u001b[0m\u001b[1;32m    328\u001b[0m                 )\n\u001b[1;32m    329\u001b[0m \u001b[0;34m\u001b[0m\u001b[0m\n",
        "\u001b[0;32m//anaconda/lib/python2.7/site-packages/requests/packages/urllib3/connectionpool.pyc\u001b[0m in \u001b[0;36murlopen\u001b[0;34m(self, method, url, body, headers, retries, redirect, assert_same_host, timeout, pool_timeout, release_conn, **response_kw)\u001b[0m\n\u001b[1;32m    491\u001b[0m             httplib_response = self._make_request(conn, method, url,\n\u001b[1;32m    492\u001b[0m                                                   \u001b[0mtimeout\u001b[0m\u001b[0;34m=\u001b[0m\u001b[0mtimeout\u001b[0m\u001b[0;34m,\u001b[0m\u001b[0;34m\u001b[0m\u001b[0m\n\u001b[0;32m--> 493\u001b[0;31m                                                   body=body, headers=headers)\n\u001b[0m\u001b[1;32m    494\u001b[0m \u001b[0;34m\u001b[0m\u001b[0m\n\u001b[1;32m    495\u001b[0m             \u001b[0;31m# If we're going to release the connection in ``finally:``, then\u001b[0m\u001b[0;34m\u001b[0m\u001b[0;34m\u001b[0m\u001b[0m\n",
        "\u001b[0;32m//anaconda/lib/python2.7/site-packages/requests/packages/urllib3/connectionpool.pyc\u001b[0m in \u001b[0;36m_make_request\u001b[0;34m(self, conn, method, url, timeout, **httplib_request_kw)\u001b[0m\n\u001b[1;32m    317\u001b[0m         \u001b[0;32mtry\u001b[0m\u001b[0;34m:\u001b[0m\u001b[0;34m\u001b[0m\u001b[0m\n\u001b[1;32m    318\u001b[0m             \u001b[0;32mtry\u001b[0m\u001b[0;34m:\u001b[0m \u001b[0;31m# Python 2.7+, use buffering of HTTP responses\u001b[0m\u001b[0;34m\u001b[0m\u001b[0m\n\u001b[0;32m--> 319\u001b[0;31m                 \u001b[0mhttplib_response\u001b[0m \u001b[0;34m=\u001b[0m \u001b[0mconn\u001b[0m\u001b[0;34m.\u001b[0m\u001b[0mgetresponse\u001b[0m\u001b[0;34m(\u001b[0m\u001b[0mbuffering\u001b[0m\u001b[0;34m=\u001b[0m\u001b[0mTrue\u001b[0m\u001b[0;34m)\u001b[0m\u001b[0;34m\u001b[0m\u001b[0m\n\u001b[0m\u001b[1;32m    320\u001b[0m             \u001b[0;32mexcept\u001b[0m \u001b[0mTypeError\u001b[0m\u001b[0;34m:\u001b[0m \u001b[0;31m# Python 2.6 and older\u001b[0m\u001b[0;34m\u001b[0m\u001b[0m\n\u001b[1;32m    321\u001b[0m                 \u001b[0mhttplib_response\u001b[0m \u001b[0;34m=\u001b[0m \u001b[0mconn\u001b[0m\u001b[0;34m.\u001b[0m\u001b[0mgetresponse\u001b[0m\u001b[0;34m(\u001b[0m\u001b[0;34m)\u001b[0m\u001b[0;34m\u001b[0m\u001b[0m\n",
        "\u001b[0;32m//anaconda/python.app/Contents/lib/python2.7/httplib.pyc\u001b[0m in \u001b[0;36mgetresponse\u001b[0;34m(self, buffering)\u001b[0m\n\u001b[1;32m   1065\u001b[0m         \u001b[0mresponse\u001b[0m \u001b[0;34m=\u001b[0m \u001b[0mself\u001b[0m\u001b[0;34m.\u001b[0m\u001b[0mresponse_class\u001b[0m\u001b[0;34m(\u001b[0m\u001b[0;34m*\u001b[0m\u001b[0margs\u001b[0m\u001b[0;34m,\u001b[0m \u001b[0;34m**\u001b[0m\u001b[0mkwds\u001b[0m\u001b[0;34m)\u001b[0m\u001b[0;34m\u001b[0m\u001b[0m\n\u001b[1;32m   1066\u001b[0m \u001b[0;34m\u001b[0m\u001b[0m\n\u001b[0;32m-> 1067\u001b[0;31m         \u001b[0mresponse\u001b[0m\u001b[0;34m.\u001b[0m\u001b[0mbegin\u001b[0m\u001b[0;34m(\u001b[0m\u001b[0;34m)\u001b[0m\u001b[0;34m\u001b[0m\u001b[0m\n\u001b[0m\u001b[1;32m   1068\u001b[0m         \u001b[0;32massert\u001b[0m \u001b[0mresponse\u001b[0m\u001b[0;34m.\u001b[0m\u001b[0mwill_close\u001b[0m \u001b[0;34m!=\u001b[0m \u001b[0m_UNKNOWN\u001b[0m\u001b[0;34m\u001b[0m\u001b[0m\n\u001b[1;32m   1069\u001b[0m         \u001b[0mself\u001b[0m\u001b[0;34m.\u001b[0m\u001b[0m__state\u001b[0m \u001b[0;34m=\u001b[0m \u001b[0m_CS_IDLE\u001b[0m\u001b[0;34m\u001b[0m\u001b[0m\n",
        "\u001b[0;32m//anaconda/python.app/Contents/lib/python2.7/httplib.pyc\u001b[0m in \u001b[0;36mbegin\u001b[0;34m(self)\u001b[0m\n\u001b[1;32m    407\u001b[0m         \u001b[0;31m# read until we get a non-100 response\u001b[0m\u001b[0;34m\u001b[0m\u001b[0;34m\u001b[0m\u001b[0m\n\u001b[1;32m    408\u001b[0m         \u001b[0;32mwhile\u001b[0m \u001b[0mTrue\u001b[0m\u001b[0;34m:\u001b[0m\u001b[0;34m\u001b[0m\u001b[0m\n\u001b[0;32m--> 409\u001b[0;31m             \u001b[0mversion\u001b[0m\u001b[0;34m,\u001b[0m \u001b[0mstatus\u001b[0m\u001b[0;34m,\u001b[0m \u001b[0mreason\u001b[0m \u001b[0;34m=\u001b[0m \u001b[0mself\u001b[0m\u001b[0;34m.\u001b[0m\u001b[0m_read_status\u001b[0m\u001b[0;34m(\u001b[0m\u001b[0;34m)\u001b[0m\u001b[0;34m\u001b[0m\u001b[0m\n\u001b[0m\u001b[1;32m    410\u001b[0m             \u001b[0;32mif\u001b[0m \u001b[0mstatus\u001b[0m \u001b[0;34m!=\u001b[0m \u001b[0mCONTINUE\u001b[0m\u001b[0;34m:\u001b[0m\u001b[0;34m\u001b[0m\u001b[0m\n\u001b[1;32m    411\u001b[0m                 \u001b[0;32mbreak\u001b[0m\u001b[0;34m\u001b[0m\u001b[0m\n",
        "\u001b[0;32m//anaconda/python.app/Contents/lib/python2.7/httplib.pyc\u001b[0m in \u001b[0;36m_read_status\u001b[0;34m(self)\u001b[0m\n\u001b[1;32m    363\u001b[0m     \u001b[0;32mdef\u001b[0m \u001b[0m_read_status\u001b[0m\u001b[0;34m(\u001b[0m\u001b[0mself\u001b[0m\u001b[0;34m)\u001b[0m\u001b[0;34m:\u001b[0m\u001b[0;34m\u001b[0m\u001b[0m\n\u001b[1;32m    364\u001b[0m         \u001b[0;31m# Initialize with Simple-Response defaults\u001b[0m\u001b[0;34m\u001b[0m\u001b[0;34m\u001b[0m\u001b[0m\n\u001b[0;32m--> 365\u001b[0;31m         \u001b[0mline\u001b[0m \u001b[0;34m=\u001b[0m \u001b[0mself\u001b[0m\u001b[0;34m.\u001b[0m\u001b[0mfp\u001b[0m\u001b[0;34m.\u001b[0m\u001b[0mreadline\u001b[0m\u001b[0;34m(\u001b[0m\u001b[0m_MAXLINE\u001b[0m \u001b[0;34m+\u001b[0m \u001b[0;36m1\u001b[0m\u001b[0;34m)\u001b[0m\u001b[0;34m\u001b[0m\u001b[0m\n\u001b[0m\u001b[1;32m    366\u001b[0m         \u001b[0;32mif\u001b[0m \u001b[0mlen\u001b[0m\u001b[0;34m(\u001b[0m\u001b[0mline\u001b[0m\u001b[0;34m)\u001b[0m \u001b[0;34m>\u001b[0m \u001b[0m_MAXLINE\u001b[0m\u001b[0;34m:\u001b[0m\u001b[0;34m\u001b[0m\u001b[0m\n\u001b[1;32m    367\u001b[0m             \u001b[0;32mraise\u001b[0m \u001b[0mLineTooLong\u001b[0m\u001b[0;34m(\u001b[0m\u001b[0;34m\"header line\"\u001b[0m\u001b[0;34m)\u001b[0m\u001b[0;34m\u001b[0m\u001b[0m\n",
        "\u001b[0;32m//anaconda/python.app/Contents/lib/python2.7/socket.pyc\u001b[0m in \u001b[0;36mreadline\u001b[0;34m(self, size)\u001b[0m\n\u001b[1;32m    474\u001b[0m             \u001b[0;32mwhile\u001b[0m \u001b[0mTrue\u001b[0m\u001b[0;34m:\u001b[0m\u001b[0;34m\u001b[0m\u001b[0m\n\u001b[1;32m    475\u001b[0m                 \u001b[0;32mtry\u001b[0m\u001b[0;34m:\u001b[0m\u001b[0;34m\u001b[0m\u001b[0m\n\u001b[0;32m--> 476\u001b[0;31m                     \u001b[0mdata\u001b[0m \u001b[0;34m=\u001b[0m \u001b[0mself\u001b[0m\u001b[0;34m.\u001b[0m\u001b[0m_sock\u001b[0m\u001b[0;34m.\u001b[0m\u001b[0mrecv\u001b[0m\u001b[0;34m(\u001b[0m\u001b[0mself\u001b[0m\u001b[0;34m.\u001b[0m\u001b[0m_rbufsize\u001b[0m\u001b[0;34m)\u001b[0m\u001b[0;34m\u001b[0m\u001b[0m\n\u001b[0m\u001b[1;32m    477\u001b[0m                 \u001b[0;32mexcept\u001b[0m \u001b[0merror\u001b[0m\u001b[0;34m,\u001b[0m \u001b[0me\u001b[0m\u001b[0;34m:\u001b[0m\u001b[0;34m\u001b[0m\u001b[0m\n\u001b[1;32m    478\u001b[0m                     \u001b[0;32mif\u001b[0m \u001b[0me\u001b[0m\u001b[0;34m.\u001b[0m\u001b[0margs\u001b[0m\u001b[0;34m[\u001b[0m\u001b[0;36m0\u001b[0m\u001b[0;34m]\u001b[0m \u001b[0;34m==\u001b[0m \u001b[0mEINTR\u001b[0m\u001b[0;34m:\u001b[0m\u001b[0;34m\u001b[0m\u001b[0m\n",
        "\u001b[0;31mKeyboardInterrupt\u001b[0m: "
       ]
      }
     ],
     "prompt_number": 457
    },
    {
     "cell_type": "code",
     "collapsed": false,
     "input": [
      "final_df = good_df[[a for a in np.isfinite(good_df.h_index)]]"
     ],
     "language": "python",
     "metadata": {},
     "outputs": [],
     "prompt_number": 477
    },
    {
     "cell_type": "code",
     "collapsed": false,
     "input": [
      "final_df.to_csv('final_df.csv')"
     ],
     "language": "python",
     "metadata": {},
     "outputs": [],
     "prompt_number": 537
    },
    {
     "cell_type": "code",
     "collapsed": false,
     "input": [
      "final_df.to_pickle('final_df.pickle')"
     ],
     "language": "python",
     "metadata": {},
     "outputs": [],
     "prompt_number": 538
    },
    {
     "cell_type": "code",
     "collapsed": false,
     "input": [
      "final_df = pd.read_csv('final_df.csv')"
     ],
     "language": "python",
     "metadata": {},
     "outputs": [],
     "prompt_number": 2
    },
    {
     "cell_type": "code",
     "collapsed": false,
     "input": [
      "def features(df):\n",
      "    title=nltk.word_tokenize(df.Title)\n",
      "    title.pop(0)\n",
      "    title.pop(-1)\n",
      "    title.pop(-1)\n",
      "    pages = df.Pages\n",
      "    figures = df.Figures\n",
      "    year = df.Year\n",
      "    word_number = len(title)\n",
      "    word_length = mean(map(len,title))\n",
      "    #ohe = enc.transform([[df.Pub_label]]).toarray()\n",
      "    pub_average = df.Pub_average\n",
      "    authors = len(ast.literal_eval(df.Author))\n",
      "    h_index = df.h_index\n",
      "    e_index = df.e_index\n",
      "    i10_index = df.i10_index\n",
      "    i100_index = df.i100_index\n",
      "    g_index = df.g_index\n",
      "    tori_index = df.tori_index\n",
      "    riq_index = df.riq_index\n",
      "    \n",
      "    return [pages,float(figures/pages),year,word_number,word_length,\\\n",
      "    authors,pub_average,h_index,e_index,i10_index,i100_index,g_index,tori_index,riq_index]"
     ],
     "language": "python",
     "metadata": {},
     "outputs": [],
     "prompt_number": 3
    },
    {
     "cell_type": "code",
     "collapsed": false,
     "input": [
      "features_description = ['pages','figures/page','year','word_number',\\\n",
      "    'word_length','authors','Pub_citation_average','h_index','e_index',\\\n",
      "    'i10_index','i100_index','g_index','tori_index','riq_index']"
     ],
     "language": "python",
     "metadata": {},
     "outputs": [],
     "prompt_number": 4
    },
    {
     "cell_type": "code",
     "collapsed": false,
     "input": [
      "# x = []\n",
      "# for i,ent in final_df.iterrows():\n",
      "#     x.append(features(ent))\n",
      "# x=array(x)\n",
      "# #x = array(map(title_features,new_df.Title))\n",
      "# #y = good_df.Citation_count.as_matrix()\n",
      "# y=final_df.Citation_category.as_matrix()"
     ],
     "language": "python",
     "metadata": {},
     "outputs": [],
     "prompt_number": 21
    },
    {
     "cell_type": "code",
     "collapsed": false,
     "input": [
      "x = []\n",
      "for i,ent in final_df[final_df.Citation_count<1000].iterrows():\n",
      "    x.append(features(ent))\n",
      "x=array(x)\n",
      "#x = array(map(title_features,new_df.Title))\n",
      "#y = good_df.Citation_count.as_matrix()\n",
      "y=final_df[final_df.Citation_count<1000].Citation_count.as_matrix()"
     ],
     "language": "python",
     "metadata": {},
     "outputs": [],
     "prompt_number": 5
    },
    {
     "cell_type": "code",
     "collapsed": false,
     "input": [
      "print '%20s\\t%5s\\t%5s' % ('Feature','Pearson-Coef','p-value')\n",
      "print\n",
      "pearson_coefs = []\n",
      "for i in range(len(x[0])):\n",
      "    pearson = pearsonr(x[:,i],y)\n",
      "    pearson_coefs.append([i,pearson[0],pearson[1]])\n",
      "    print '%20s\\t%.3f\\t\\t%.3e' %(features_description[i],pearson[0],pearson[1])\n",
      "pearson_coefs = np.array(pearson_coefs)"
     ],
     "language": "python",
     "metadata": {},
     "outputs": [
      {
       "output_type": "stream",
       "stream": "stdout",
       "text": [
        "             Feature\tPearson-Coef\tp-value\n",
        "\n",
        "               pages\t0.218\t\t7.497e-122\n",
        "        figures/page\t-0.005\t\t5.745e-01\n",
        "                year\t-0.032\t\t5.742e-04\n",
        "         word_number\t0.047\t\t5.329e-07\n",
        "         word_length\t-0.005\t\t5.651e-01\n",
        "             authors\t0.115\t\t1.516e-34\n",
        "Pub_citation_average\t0.308\t\t3.232e-247\n",
        "             h_index\t0.125\t\t1.125e-40\n",
        "             e_index\t0.441\t\t0.000e+00\n",
        "           i10_index\t0.149\t\t6.628e-57\n",
        "          i100_index\t0.397\t\t0.000e+00\n",
        "             g_index\t0.194\t\t6.576e-96\n",
        "          tori_index\t0.254\t\t3.627e-166\n",
        "           riq_index\t0.195\t\t1.111e-97\n"
       ]
      }
     ],
     "prompt_number": 6
    },
    {
     "cell_type": "code",
     "collapsed": false,
     "input": [
      "print '%20s\\t%5s\\t%5s' % ('Feature','Pearson-Coef','p-value')\n",
      "print\n",
      "for i,p1,p2 in pearson_coefs[argsort(abs(pearson_coefs[:,1]))][::-1]:\n",
      "    print '%20s\\t%.3f\\t\\t%.3e' % (features_description[int(i)],p1,p2)"
     ],
     "language": "python",
     "metadata": {},
     "outputs": [
      {
       "output_type": "stream",
       "stream": "stdout",
       "text": [
        "             Feature\tPearson-Coef\tp-value\n",
        "\n",
        "             e_index\t0.441\t\t0.000e+00\n",
        "          i100_index\t0.397\t\t0.000e+00\n",
        "Pub_citation_average\t0.308\t\t3.232e-247\n",
        "          tori_index\t0.254\t\t3.627e-166\n",
        "               pages\t0.218\t\t7.497e-122\n",
        "           riq_index\t0.195\t\t1.111e-97\n",
        "             g_index\t0.194\t\t6.576e-96\n",
        "           i10_index\t0.149\t\t6.628e-57\n",
        "             h_index\t0.125\t\t1.125e-40\n",
        "             authors\t0.115\t\t1.516e-34\n",
        "         word_number\t0.047\t\t5.329e-07\n",
        "                year\t-0.032\t\t5.742e-04\n",
        "         word_length\t-0.005\t\t5.651e-01\n",
        "        figures/page\t-0.005\t\t5.745e-01\n"
       ]
      }
     ],
     "prompt_number": 7
    },
    {
     "cell_type": "code",
     "collapsed": false,
     "input": [
      "import itertools\n",
      "print '%20s\\t%20s\\t%5s\\t%5s' % ('Feature1','Feature2','Pearson-Coef','p-value')\n",
      "print\n",
      "pearson_df = pd.DataFrame({'Feature1':[],'Feature2':[],'Pearson_Ceof':[],'P_val':[]})\n",
      "#for pair in list(itertools.combinations(pearson_coefs[argsort(abs(pearson_coefs[:,1]))][::-1][:5][:,0],2)):\n",
      "for i,pair in enumerate(list(itertools.combinations([0,6,7,8,9],2))):\n",
      "    p = pearson = pearsonr(x[:,int(pair[0])],x[:,int(pair[1])])\n",
      "    pearson_df.loc[i] = (features_description[int(pair[0])],features_description[int(pair[1])],p[0],p[1])\n",
      "    print '%20s\\t%20s\\t%.3f\\t\\t%.3e' % (features_description[int(pair[0])],features_description[int(pair[1])],p[0],p[1])"
     ],
     "language": "python",
     "metadata": {},
     "outputs": [
      {
       "output_type": "stream",
       "stream": "stdout",
       "text": [
        "            Feature1\t            Feature2\tPearson-Coef\tp-value\n",
        "\n",
        "               pages\tPub_citation_average\t0.229\t\t1.146e-134\n",
        "               pages\t             h_index\t0.030\t\t1.440e-03\n",
        "               pages\t             e_index\t0.110\t\t1.293e-31\n",
        "               pages\t           i10_index\t0.037\t\t8.638e-05\n",
        "Pub_citation_average\t             h_index\t0.114\t\t4.941e-34\n",
        "Pub_citation_average\t             e_index\t0.188\t\t4.139e-90\n",
        "Pub_citation_average\t           i10_index\t0.137\t\t1.151e-48\n",
        "             h_index\t             e_index\t0.663\t\t0.000e+00\n",
        "             h_index\t           i10_index\t0.963\t\t0.000e+00\n",
        "             e_index\t           i10_index\t0.695\t\t0.000e+00\n"
       ]
      }
     ],
     "prompt_number": 40
    },
    {
     "cell_type": "code",
     "collapsed": false,
     "input": [
      "import itertools\n",
      "pearson_df = pd.DataFrame({'Feature1':[],'Feature2':[],'Pearson_Coef':[],'P_val':[]})\n",
      "#for pair in list(itertools.combinations(pearson_coefs[argsort(abs(pearson_coefs[:,1]))][::-1][:5][:,0],2)):\n",
      "for i,pair in enumerate(list(itertools.combinations(range(14),2))):\n",
      "    p = pearson = pearsonr(x[:,int(pair[0])],x[:,int(pair[1])])\n",
      "    pearson_df.loc[i] = ['','',0,0]\n",
      "    pearson_df.loc[i]['Feature1'] = features_description[int(pair[0])]\n",
      "    pearson_df.loc[i]['Feature2'] = features_description[int(pair[1])]\n",
      "    pearson_df.loc[i]['Pearson_Coef'] = p[0]\n",
      "    pearson_df.loc[i]['P_val'] = p[1]\n",
      "    #print '%20s\\t%20s\\t%.3f\\t\\t%.3e' % (features_description[int(pair[0])],features_description[int(pair[1])],p[0],p[1])"
     ],
     "language": "python",
     "metadata": {},
     "outputs": [],
     "prompt_number": 64
    },
    {
     "cell_type": "code",
     "collapsed": false,
     "input": [
      "pearson_df.sort(columns=['Pearson_Coef'],ascending=False)"
     ],
     "language": "python",
     "metadata": {},
     "outputs": [
      {
       "html": [
        "<div style=\"max-height:1000px;max-width:1500px;overflow:auto;\">\n",
        "<table border=\"1\" class=\"dataframe\">\n",
        "  <thead>\n",
        "    <tr style=\"text-align: right;\">\n",
        "      <th></th>\n",
        "      <th>Feature1</th>\n",
        "      <th>Feature2</th>\n",
        "      <th>P_val</th>\n",
        "      <th>Pearson_Coef</th>\n",
        "    </tr>\n",
        "  </thead>\n",
        "  <tbody>\n",
        "    <tr>\n",
        "      <th>71</th>\n",
        "      <td>              h_index</td>\n",
        "      <td>            i10_index</td>\n",
        "      <td>             0</td>\n",
        "      <td>   0.9627494</td>\n",
        "    </tr>\n",
        "    <tr>\n",
        "      <th>73</th>\n",
        "      <td>              h_index</td>\n",
        "      <td>              g_index</td>\n",
        "      <td>             0</td>\n",
        "      <td>   0.8474473</td>\n",
        "    </tr>\n",
        "    <tr>\n",
        "      <th>77</th>\n",
        "      <td>              e_index</td>\n",
        "      <td>           i100_index</td>\n",
        "      <td>             0</td>\n",
        "      <td>   0.8377209</td>\n",
        "    </tr>\n",
        "    <tr>\n",
        "      <th>82</th>\n",
        "      <td>            i10_index</td>\n",
        "      <td>              g_index</td>\n",
        "      <td>             0</td>\n",
        "      <td>   0.8275686</td>\n",
        "    </tr>\n",
        "    <tr>\n",
        "      <th>79</th>\n",
        "      <td>              e_index</td>\n",
        "      <td>           tori_index</td>\n",
        "      <td>             0</td>\n",
        "      <td>   0.7670813</td>\n",
        "    </tr>\n",
        "    <tr>\n",
        "      <th>78</th>\n",
        "      <td>              e_index</td>\n",
        "      <td>              g_index</td>\n",
        "      <td>             0</td>\n",
        "      <td>   0.7200806</td>\n",
        "    </tr>\n",
        "    <tr>\n",
        "      <th>76</th>\n",
        "      <td>              e_index</td>\n",
        "      <td>            i10_index</td>\n",
        "      <td>             0</td>\n",
        "      <td>   0.6951175</td>\n",
        "    </tr>\n",
        "    <tr>\n",
        "      <th>70</th>\n",
        "      <td>              h_index</td>\n",
        "      <td>              e_index</td>\n",
        "      <td>             0</td>\n",
        "      <td>    0.662748</td>\n",
        "    </tr>\n",
        "    <tr>\n",
        "      <th>86</th>\n",
        "      <td>           i100_index</td>\n",
        "      <td>           tori_index</td>\n",
        "      <td>             0</td>\n",
        "      <td>   0.6599822</td>\n",
        "    </tr>\n",
        "    <tr>\n",
        "      <th>83</th>\n",
        "      <td>            i10_index</td>\n",
        "      <td>           tori_index</td>\n",
        "      <td>             0</td>\n",
        "      <td>   0.5598512</td>\n",
        "    </tr>\n",
        "    <tr>\n",
        "      <th>74</th>\n",
        "      <td>              h_index</td>\n",
        "      <td>           tori_index</td>\n",
        "      <td>             0</td>\n",
        "      <td>   0.5503624</td>\n",
        "    </tr>\n",
        "    <tr>\n",
        "      <th>81</th>\n",
        "      <td>            i10_index</td>\n",
        "      <td>           i100_index</td>\n",
        "      <td>             0</td>\n",
        "      <td>   0.5294588</td>\n",
        "    </tr>\n",
        "    <tr>\n",
        "      <th>85</th>\n",
        "      <td>           i100_index</td>\n",
        "      <td>              g_index</td>\n",
        "      <td>             0</td>\n",
        "      <td>   0.5269427</td>\n",
        "    </tr>\n",
        "    <tr>\n",
        "      <th>88</th>\n",
        "      <td>              g_index</td>\n",
        "      <td>           tori_index</td>\n",
        "      <td>             0</td>\n",
        "      <td>   0.5189082</td>\n",
        "    </tr>\n",
        "    <tr>\n",
        "      <th>72</th>\n",
        "      <td>              h_index</td>\n",
        "      <td>           i100_index</td>\n",
        "      <td>             0</td>\n",
        "      <td>   0.5037178</td>\n",
        "    </tr>\n",
        "    <tr>\n",
        "      <th>90</th>\n",
        "      <td>           tori_index</td>\n",
        "      <td>            riq_index</td>\n",
        "      <td>             0</td>\n",
        "      <td>   0.4459709</td>\n",
        "    </tr>\n",
        "    <tr>\n",
        "      <th>80</th>\n",
        "      <td>              e_index</td>\n",
        "      <td>            riq_index</td>\n",
        "      <td>             0</td>\n",
        "      <td>   0.4222858</td>\n",
        "    </tr>\n",
        "    <tr>\n",
        "      <th>87</th>\n",
        "      <td>           i100_index</td>\n",
        "      <td>            riq_index</td>\n",
        "      <td>             0</td>\n",
        "      <td>   0.3645486</td>\n",
        "    </tr>\n",
        "    <tr>\n",
        "      <th>84</th>\n",
        "      <td>            i10_index</td>\n",
        "      <td>            riq_index</td>\n",
        "      <td> 1.846085e-288</td>\n",
        "      <td>   0.3315601</td>\n",
        "    </tr>\n",
        "    <tr>\n",
        "      <th>75</th>\n",
        "      <td>              h_index</td>\n",
        "      <td>            riq_index</td>\n",
        "      <td> 5.226911e-256</td>\n",
        "      <td>   0.3132175</td>\n",
        "    </tr>\n",
        "    <tr>\n",
        "      <th>89</th>\n",
        "      <td>              g_index</td>\n",
        "      <td>            riq_index</td>\n",
        "      <td>  1.33118e-208</td>\n",
        "      <td>   0.2838095</td>\n",
        "    </tr>\n",
        "    <tr>\n",
        "      <th>5 </th>\n",
        "      <td>                pages</td>\n",
        "      <td> Pub_citation_average</td>\n",
        "      <td> 1.145624e-134</td>\n",
        "      <td>   0.2291083</td>\n",
        "    </tr>\n",
        "    <tr>\n",
        "      <th>64</th>\n",
        "      <td> Pub_citation_average</td>\n",
        "      <td>              e_index</td>\n",
        "      <td>  4.139482e-90</td>\n",
        "      <td>    0.187568</td>\n",
        "    </tr>\n",
        "    <tr>\n",
        "      <th>66</th>\n",
        "      <td> Pub_citation_average</td>\n",
        "      <td>           i100_index</td>\n",
        "      <td>  2.357851e-51</td>\n",
        "      <td>   0.1410283</td>\n",
        "    </tr>\n",
        "    <tr>\n",
        "      <th>65</th>\n",
        "      <td> Pub_citation_average</td>\n",
        "      <td>            i10_index</td>\n",
        "      <td>  1.150848e-48</td>\n",
        "      <td>   0.1371879</td>\n",
        "    </tr>\n",
        "    <tr>\n",
        "      <th>67</th>\n",
        "      <td> Pub_citation_average</td>\n",
        "      <td>              g_index</td>\n",
        "      <td>  2.030672e-48</td>\n",
        "      <td>     0.13683</td>\n",
        "    </tr>\n",
        "    <tr>\n",
        "      <th>63</th>\n",
        "      <td> Pub_citation_average</td>\n",
        "      <td>              h_index</td>\n",
        "      <td>  4.941158e-34</td>\n",
        "      <td>   0.1139763</td>\n",
        "    </tr>\n",
        "    <tr>\n",
        "      <th>7 </th>\n",
        "      <td>                pages</td>\n",
        "      <td>              e_index</td>\n",
        "      <td>  1.292822e-31</td>\n",
        "      <td>   0.1096603</td>\n",
        "    </tr>\n",
        "    <tr>\n",
        "      <th>68</th>\n",
        "      <td> Pub_citation_average</td>\n",
        "      <td>           tori_index</td>\n",
        "      <td>  1.989784e-30</td>\n",
        "      <td>   0.1074767</td>\n",
        "    </tr>\n",
        "    <tr>\n",
        "      <th>9 </th>\n",
        "      <td>                pages</td>\n",
        "      <td>           i100_index</td>\n",
        "      <td>  4.167293e-28</td>\n",
        "      <td>   0.1030732</td>\n",
        "    </tr>\n",
        "    <tr>\n",
        "      <th>...</th>\n",
        "      <td>...</td>\n",
        "      <td>...</td>\n",
        "      <td>...</td>\n",
        "      <td>...</td>\n",
        "    </tr>\n",
        "    <tr>\n",
        "      <th>13</th>\n",
        "      <td>         figures/page</td>\n",
        "      <td>                 year</td>\n",
        "      <td>     0.7291978</td>\n",
        "      <td>  -0.0032549</td>\n",
        "    </tr>\n",
        "    <tr>\n",
        "      <th>43</th>\n",
        "      <td>          word_number</td>\n",
        "      <td>              g_index</td>\n",
        "      <td>      0.545403</td>\n",
        "      <td>-0.005685001</td>\n",
        "    </tr>\n",
        "    <tr>\n",
        "      <th>24</th>\n",
        "      <td>         figures/page</td>\n",
        "      <td>            riq_index</td>\n",
        "      <td>     0.4012879</td>\n",
        "      <td>-0.007891203</td>\n",
        "    </tr>\n",
        "    <tr>\n",
        "      <th>32</th>\n",
        "      <td>                 year</td>\n",
        "      <td>           i100_index</td>\n",
        "      <td>     0.3027742</td>\n",
        "      <td>-0.009688566</td>\n",
        "    </tr>\n",
        "    <tr>\n",
        "      <th>26</th>\n",
        "      <td>                 year</td>\n",
        "      <td>          word_length</td>\n",
        "      <td>     0.2340111</td>\n",
        "      <td> -0.01118889</td>\n",
        "    </tr>\n",
        "    <tr>\n",
        "      <th>21</th>\n",
        "      <td>         figures/page</td>\n",
        "      <td>           i100_index</td>\n",
        "      <td>     0.1986077</td>\n",
        "      <td> -0.01208611</td>\n",
        "    </tr>\n",
        "    <tr>\n",
        "      <th>23</th>\n",
        "      <td>         figures/page</td>\n",
        "      <td>           tori_index</td>\n",
        "      <td>     0.1679138</td>\n",
        "      <td> -0.01296425</td>\n",
        "    </tr>\n",
        "    <tr>\n",
        "      <th>58</th>\n",
        "      <td>              authors</td>\n",
        "      <td>            i10_index</td>\n",
        "      <td>      0.164219</td>\n",
        "      <td> -0.01307784</td>\n",
        "    </tr>\n",
        "    <tr>\n",
        "      <th>56</th>\n",
        "      <td>              authors</td>\n",
        "      <td>              h_index</td>\n",
        "      <td>    0.06027424</td>\n",
        "      <td> -0.01766295</td>\n",
        "    </tr>\n",
        "    <tr>\n",
        "      <th>30</th>\n",
        "      <td>                 year</td>\n",
        "      <td>              e_index</td>\n",
        "      <td>    0.05392475</td>\n",
        "      <td> -0.01812033</td>\n",
        "    </tr>\n",
        "    <tr>\n",
        "      <th>18</th>\n",
        "      <td>         figures/page</td>\n",
        "      <td>              h_index</td>\n",
        "      <td>    0.03557197</td>\n",
        "      <td> -0.01975909</td>\n",
        "    </tr>\n",
        "    <tr>\n",
        "      <th>19</th>\n",
        "      <td>         figures/page</td>\n",
        "      <td>              e_index</td>\n",
        "      <td>    0.02388724</td>\n",
        "      <td> -0.02123616</td>\n",
        "    </tr>\n",
        "    <tr>\n",
        "      <th>20</th>\n",
        "      <td>         figures/page</td>\n",
        "      <td>            i10_index</td>\n",
        "      <td>    0.02067153</td>\n",
        "      <td> -0.02175302</td>\n",
        "    </tr>\n",
        "    <tr>\n",
        "      <th>17</th>\n",
        "      <td>         figures/page</td>\n",
        "      <td> Pub_citation_average</td>\n",
        "      <td>    0.01891843</td>\n",
        "      <td> -0.02206509</td>\n",
        "    </tr>\n",
        "    <tr>\n",
        "      <th>35</th>\n",
        "      <td>                 year</td>\n",
        "      <td>            riq_index</td>\n",
        "      <td>    0.01534308</td>\n",
        "      <td> -0.02278919</td>\n",
        "    </tr>\n",
        "    <tr>\n",
        "      <th>22</th>\n",
        "      <td>         figures/page</td>\n",
        "      <td>              g_index</td>\n",
        "      <td>    0.01027639</td>\n",
        "      <td> -0.02412569</td>\n",
        "    </tr>\n",
        "    <tr>\n",
        "      <th>28</th>\n",
        "      <td>                 year</td>\n",
        "      <td> Pub_citation_average</td>\n",
        "      <td>   0.003292409</td>\n",
        "      <td> -0.02762752</td>\n",
        "    </tr>\n",
        "    <tr>\n",
        "      <th>1 </th>\n",
        "      <td>                pages</td>\n",
        "      <td>                 year</td>\n",
        "      <td>   0.001873037</td>\n",
        "      <td> -0.02923079</td>\n",
        "    </tr>\n",
        "    <tr>\n",
        "      <th>41</th>\n",
        "      <td>          word_number</td>\n",
        "      <td>            i10_index</td>\n",
        "      <td>  0.0004698024</td>\n",
        "      <td> -0.03287378</td>\n",
        "    </tr>\n",
        "    <tr>\n",
        "      <th>0 </th>\n",
        "      <td>                pages</td>\n",
        "      <td>         figures/page</td>\n",
        "      <td>  0.0003854821</td>\n",
        "      <td> -0.03336623</td>\n",
        "    </tr>\n",
        "    <tr>\n",
        "      <th>40</th>\n",
        "      <td>          word_number</td>\n",
        "      <td>              e_index</td>\n",
        "      <td>  0.0001806276</td>\n",
        "      <td> -0.03519656</td>\n",
        "    </tr>\n",
        "    <tr>\n",
        "      <th>39</th>\n",
        "      <td>          word_number</td>\n",
        "      <td>              h_index</td>\n",
        "      <td>  0.0001708231</td>\n",
        "      <td> -0.03532797</td>\n",
        "    </tr>\n",
        "    <tr>\n",
        "      <th>42</th>\n",
        "      <td>          word_number</td>\n",
        "      <td>           i100_index</td>\n",
        "      <td>  0.0001051407</td>\n",
        "      <td> -0.03645275</td>\n",
        "    </tr>\n",
        "    <tr>\n",
        "      <th>45</th>\n",
        "      <td>          word_number</td>\n",
        "      <td>            riq_index</td>\n",
        "      <td>  5.203037e-09</td>\n",
        "      <td> -0.05487149</td>\n",
        "    </tr>\n",
        "    <tr>\n",
        "      <th>34</th>\n",
        "      <td>                 year</td>\n",
        "      <td>           tori_index</td>\n",
        "      <td>  6.153121e-17</td>\n",
        "      <td> -0.07850065</td>\n",
        "    </tr>\n",
        "    <tr>\n",
        "      <th>44</th>\n",
        "      <td>          word_number</td>\n",
        "      <td>           tori_index</td>\n",
        "      <td>  3.959651e-18</td>\n",
        "      <td> -0.08147322</td>\n",
        "    </tr>\n",
        "    <tr>\n",
        "      <th>46</th>\n",
        "      <td>          word_length</td>\n",
        "      <td>              authors</td>\n",
        "      <td>  7.410474e-19</td>\n",
        "      <td> -0.08323747</td>\n",
        "    </tr>\n",
        "    <tr>\n",
        "      <th>62</th>\n",
        "      <td>              authors</td>\n",
        "      <td>            riq_index</td>\n",
        "      <td>   1.58194e-19</td>\n",
        "      <td> -0.08483102</td>\n",
        "    </tr>\n",
        "    <tr>\n",
        "      <th>61</th>\n",
        "      <td>              authors</td>\n",
        "      <td>           tori_index</td>\n",
        "      <td>  1.506505e-20</td>\n",
        "      <td> -0.08720208</td>\n",
        "    </tr>\n",
        "    <tr>\n",
        "      <th>36</th>\n",
        "      <td>          word_number</td>\n",
        "      <td>          word_length</td>\n",
        "      <td>             0</td>\n",
        "      <td>  -0.4509328</td>\n",
        "    </tr>\n",
        "  </tbody>\n",
        "</table>\n",
        "<p>91 rows \u00d7 4 columns</p>\n",
        "</div>"
       ],
       "metadata": {},
       "output_type": "pyout",
       "prompt_number": 67,
       "text": [
        "                Feature1              Feature2          P_val Pearson_Coef\n",
        "71               h_index             i10_index              0    0.9627494\n",
        "73               h_index               g_index              0    0.8474473\n",
        "77               e_index            i100_index              0    0.8377209\n",
        "82             i10_index               g_index              0    0.8275686\n",
        "79               e_index            tori_index              0    0.7670813\n",
        "78               e_index               g_index              0    0.7200806\n",
        "76               e_index             i10_index              0    0.6951175\n",
        "70               h_index               e_index              0     0.662748\n",
        "86            i100_index            tori_index              0    0.6599822\n",
        "83             i10_index            tori_index              0    0.5598512\n",
        "74               h_index            tori_index              0    0.5503624\n",
        "81             i10_index            i100_index              0    0.5294588\n",
        "85            i100_index               g_index              0    0.5269427\n",
        "88               g_index            tori_index              0    0.5189082\n",
        "72               h_index            i100_index              0    0.5037178\n",
        "90            tori_index             riq_index              0    0.4459709\n",
        "80               e_index             riq_index              0    0.4222858\n",
        "87            i100_index             riq_index              0    0.3645486\n",
        "84             i10_index             riq_index  1.846085e-288    0.3315601\n",
        "75               h_index             riq_index  5.226911e-256    0.3132175\n",
        "89               g_index             riq_index   1.33118e-208    0.2838095\n",
        "5                  pages  Pub_citation_average  1.145624e-134    0.2291083\n",
        "64  Pub_citation_average               e_index   4.139482e-90     0.187568\n",
        "66  Pub_citation_average            i100_index   2.357851e-51    0.1410283\n",
        "65  Pub_citation_average             i10_index   1.150848e-48    0.1371879\n",
        "67  Pub_citation_average               g_index   2.030672e-48      0.13683\n",
        "63  Pub_citation_average               h_index   4.941158e-34    0.1139763\n",
        "7                  pages               e_index   1.292822e-31    0.1096603\n",
        "68  Pub_citation_average            tori_index   1.989784e-30    0.1074767\n",
        "9                  pages            i100_index   4.167293e-28    0.1030732\n",
        "..                   ...                   ...            ...          ...\n",
        "13          figures/page                  year      0.7291978   -0.0032549\n",
        "43           word_number               g_index       0.545403 -0.005685001\n",
        "24          figures/page             riq_index      0.4012879 -0.007891203\n",
        "32                  year            i100_index      0.3027742 -0.009688566\n",
        "26                  year           word_length      0.2340111  -0.01118889\n",
        "21          figures/page            i100_index      0.1986077  -0.01208611\n",
        "23          figures/page            tori_index      0.1679138  -0.01296425\n",
        "58               authors             i10_index       0.164219  -0.01307784\n",
        "56               authors               h_index     0.06027424  -0.01766295\n",
        "30                  year               e_index     0.05392475  -0.01812033\n",
        "18          figures/page               h_index     0.03557197  -0.01975909\n",
        "19          figures/page               e_index     0.02388724  -0.02123616\n",
        "20          figures/page             i10_index     0.02067153  -0.02175302\n",
        "17          figures/page  Pub_citation_average     0.01891843  -0.02206509\n",
        "35                  year             riq_index     0.01534308  -0.02278919\n",
        "22          figures/page               g_index     0.01027639  -0.02412569\n",
        "28                  year  Pub_citation_average    0.003292409  -0.02762752\n",
        "1                  pages                  year    0.001873037  -0.02923079\n",
        "41           word_number             i10_index   0.0004698024  -0.03287378\n",
        "0                  pages          figures/page   0.0003854821  -0.03336623\n",
        "40           word_number               e_index   0.0001806276  -0.03519656\n",
        "39           word_number               h_index   0.0001708231  -0.03532797\n",
        "42           word_number            i100_index   0.0001051407  -0.03645275\n",
        "45           word_number             riq_index   5.203037e-09  -0.05487149\n",
        "34                  year            tori_index   6.153121e-17  -0.07850065\n",
        "44           word_number            tori_index   3.959651e-18  -0.08147322\n",
        "46           word_length               authors   7.410474e-19  -0.08323747\n",
        "62               authors             riq_index    1.58194e-19  -0.08483102\n",
        "61               authors            tori_index   1.506505e-20  -0.08720208\n",
        "36           word_number           word_length              0   -0.4509328\n",
        "\n",
        "[91 rows x 4 columns]"
       ]
      }
     ],
     "prompt_number": 67
    },
    {
     "cell_type": "code",
     "collapsed": false,
     "input": [
      "X_train, X_test, y_train, y_test = cross_validation.train_test_split(\\\n",
      "    x,y, test_size=0.25, random_state=1)"
     ],
     "language": "python",
     "metadata": {},
     "outputs": [],
     "prompt_number": 68
    },
    {
     "cell_type": "code",
     "collapsed": false,
     "input": [
      "clf = linear_model.Lasso()\n",
      "parameters = {'alpha':np.linspace(0,10,21)}\n",
      "gs = grid_search.GridSearchCV(clf, parameters,cv=10)\n",
      "gs.fit(X_train,y_train)\n",
      "gs.grid_scores_"
     ],
     "language": "python",
     "metadata": {},
     "outputs": [
      {
       "metadata": {},
       "output_type": "pyout",
       "prompt_number": 396,
       "text": [
        "[mean: -1.00922, std: 3.96320, params: {'alpha': 0.0},\n",
        " mean: -0.60406, std: 2.74648, params: {'alpha': 0.5},\n",
        " mean: -0.27407, std: 1.75478, params: {'alpha': 1.0},\n",
        " mean: -0.01779, std: 0.98385, params: {'alpha': 1.5},\n",
        " mean: 0.16510, std: 0.43402, params: {'alpha': 2.0},\n",
        " mean: 0.27440, std: 0.10821, params: {'alpha': 2.5},\n",
        " mean: 0.31080, std: 0.02918, params: {'alpha': 3.0},\n",
        " mean: 0.31060, std: 0.02906, params: {'alpha': 3.5},\n",
        " mean: 0.31040, std: 0.02895, params: {'alpha': 4.0},\n",
        " mean: 0.31015, std: 0.02883, params: {'alpha': 4.5},\n",
        " mean: 0.30984, std: 0.02874, params: {'alpha': 5.0},\n",
        " mean: 0.30949, std: 0.02865, params: {'alpha': 5.5},\n",
        " mean: 0.30910, std: 0.02856, params: {'alpha': 6.0},\n",
        " mean: 0.30866, std: 0.02849, params: {'alpha': 6.5},\n",
        " mean: 0.30819, std: 0.02842, params: {'alpha': 7.0},\n",
        " mean: 0.30767, std: 0.02836, params: {'alpha': 7.5},\n",
        " mean: 0.30711, std: 0.02831, params: {'alpha': 8.0},\n",
        " mean: 0.30652, std: 0.02826, params: {'alpha': 8.5},\n",
        " mean: 0.30588, std: 0.02823, params: {'alpha': 9.0},\n",
        " mean: 0.30521, std: 0.02820, params: {'alpha': 9.5},\n",
        " mean: 0.30451, std: 0.02819, params: {'alpha': 10.0}]"
       ]
      }
     ],
     "prompt_number": 396
    },
    {
     "cell_type": "code",
     "collapsed": false,
     "input": [
      "gs.best_estimator_"
     ],
     "language": "python",
     "metadata": {},
     "outputs": [
      {
       "metadata": {},
       "output_type": "pyout",
       "prompt_number": 397,
       "text": [
        "Lasso(alpha=3.0, copy_X=True, fit_intercept=True, max_iter=1000,\n",
        "   normalize=False, positive=False, precompute='auto', tol=0.0001,\n",
        "   warm_start=False)"
       ]
      }
     ],
     "prompt_number": 397
    },
    {
     "cell_type": "code",
     "collapsed": false,
     "input": [
      "clf = linear_model.Lasso(alpha=3).fit(X_train,y_train)\n",
      "print clf.score(X_test,y_test)\n",
      "print pearsonr(y_test,clf.predict(X_test))"
     ],
     "language": "python",
     "metadata": {},
     "outputs": [
      {
       "output_type": "stream",
       "stream": "stdout",
       "text": [
        "0.362554179631\n",
        "(0.60628099326448792, 1.3121079087338855e-283)\n"
       ]
      }
     ],
     "prompt_number": 398
    },
    {
     "cell_type": "code",
     "collapsed": false,
     "input": [
      "p,res,_,_,_ = np.polyfit(y_test,clf.predict(X_test),deg=1,full=True)\n",
      "print 'actual vs. predicted slope = ',p[0]\n",
      "rms = np.sqrt(res/float(len(y_test)))"
     ],
     "language": "python",
     "metadata": {},
     "outputs": [
      {
       "output_type": "stream",
       "stream": "stdout",
       "text": [
        "actual vs. predicted slope =  0.326280843799\n"
       ]
      }
     ],
     "prompt_number": 401
    },
    {
     "cell_type": "code",
     "collapsed": false,
     "input": [
      "plt.plot(y_test,clf.predict(X_test),'bo',alpha=0.1)\n",
      "plt.xlabel('actual')\n",
      "plt.ylabel('predicted')\n",
      "plt.xlim(0,200)\n",
      "plt.ylim(0,200)\n",
      "x_arr = np.linspace(0,200,1000)\n",
      "plt.plot(x_arr,x_arr,'r-',label='1:1')\n",
      "plt.plot(x_arr,p[0]*x_arr+p[1],'g-',label='best fit line')\n",
      "plt.plot(x_arr,p[0]*x_arr+p[1]+rms,'g--')\n",
      "plt.plot(x_arr,p[0]*x_arr+p[1]-rms,'g--')\n",
      "plt.legend()\n",
      "plt.show()"
     ],
     "language": "python",
     "metadata": {},
     "outputs": [
      {
       "metadata": {},
       "output_type": "display_data",
       "png": "[encoded data removed]",
       "text": [
        "<matplotlib.figure.Figure at 0x11091ffd0>"
       ]
      }
     ],
     "prompt_number": 402
    },
    {
     "cell_type": "code",
     "collapsed": false,
     "input": [
      "clf = svm.SVR()\n",
      "parameters = {'C':np.linspace(0.1,1,10)}\n",
      "gs = grid_search.GridSearchCV(clf, parameters,cv=10)\n",
      "gs.fit(X_train,y_train)\n",
      "gs.grid_scores_"
     ],
     "language": "python",
     "metadata": {},
     "outputs": []
    },
    {
     "cell_type": "code",
     "collapsed": false,
     "input": [
      "clf = svm.SVR()\n",
      "clf.fit(X_train, y_train)\n",
      "print clf.score(X_test,y_test)\n",
      "print pearsonr(y_test,clf.predict(X_test))"
     ],
     "language": "python",
     "metadata": {},
     "outputs": [
      {
       "output_type": "stream",
       "stream": "stdout",
       "text": [
        "-0.0904879042455\n",
        "(0.082827652034968113, 1.0284696802510875e-05)"
       ]
      },
      {
       "output_type": "stream",
       "stream": "stdout",
       "text": [
        "\n"
       ]
      }
     ],
     "prompt_number": 424
    },
    {
     "cell_type": "code",
     "collapsed": false,
     "input": [
      "clf = GradientBoostingRegressor(learning_rate=0.1,\\\n",
      "random_state=0, loss='ls')\n",
      "parameters = {'max_depth':[5],'n_estimators':[10,25,50,100]}\n",
      "gs = grid_search.GridSearchCV(clf, parameters,cv=10)\n",
      "gs.fit(X_train,y_train)\n",
      "gs.grid_scores_"
     ],
     "language": "python",
     "metadata": {},
     "outputs": [
      {
       "metadata": {},
       "output_type": "pyout",
       "prompt_number": 364,
       "text": [
        "[mean: 0.35528, std: 0.02029, params: {'n_estimators': 10, 'max_depth': 5},\n",
        " mean: 0.44684, std: 0.03747, params: {'n_estimators': 25, 'max_depth': 5},\n",
        " mean: 0.45972, std: 0.04777, params: {'n_estimators': 50, 'max_depth': 5},\n",
        " mean: 0.45669, std: 0.05395, params: {'n_estimators': 100, 'max_depth': 5}]"
       ]
      }
     ],
     "prompt_number": 364
    },
    {
     "cell_type": "code",
     "collapsed": false,
     "input": [
      "clf = GradientBoostingRegressor(learning_rate=0.1,\\\n",
      "random_state=0, loss='ls')\n",
      "parameters = {'max_depth':[1,3,5],'n_estimators':[10,25,50,100,200,300,500]}\n",
      "gs = grid_search.GridSearchCV(clf, parameters,cv=10)\n",
      "gs.fit(X_train,y_train)\n",
      "gs.grid_scores_"
     ],
     "language": "python",
     "metadata": {},
     "outputs": [
      {
       "metadata": {},
       "output_type": "pyout",
       "prompt_number": 114,
       "text": [
        "[mean: 0.10643, std: 0.02980, params: {'n_estimators': 10, 'max_depth': 1},\n",
        " mean: 0.16519, std: 0.06568, params: {'n_estimators': 25, 'max_depth': 1},\n",
        " mean: 0.18876, std: 0.12015, params: {'n_estimators': 50, 'max_depth': 1},\n",
        " mean: 0.19950, std: 0.16141, params: {'n_estimators': 100, 'max_depth': 1},\n",
        " mean: 0.21259, std: 0.17573, params: {'n_estimators': 200, 'max_depth': 1},\n",
        " mean: 0.21876, std: 0.17487, params: {'n_estimators': 300, 'max_depth': 1},\n",
        " mean: 0.22211, std: 0.17459, params: {'n_estimators': 500, 'max_depth': 1},\n",
        " mean: 0.20407, std: 0.08583, params: {'n_estimators': 10, 'max_depth': 3},\n",
        " mean: 0.24079, std: 0.13981, params: {'n_estimators': 25, 'max_depth': 3},\n",
        " mean: 0.26688, std: 0.16423, params: {'n_estimators': 50, 'max_depth': 3},\n",
        " mean: 0.26921, std: 0.17151, params: {'n_estimators': 100, 'max_depth': 3},\n",
        " mean: 0.27066, std: 0.16833, params: {'n_estimators': 200, 'max_depth': 3},\n",
        " mean: 0.25990, std: 0.17424, params: {'n_estimators': 300, 'max_depth': 3},\n",
        " mean: 0.24259, std: 0.17856, params: {'n_estimators': 500, 'max_depth': 3},\n",
        " mean: 0.26480, std: 0.08840, params: {'n_estimators': 10, 'max_depth': 5},\n",
        " mean: 0.29991, std: 0.14631, params: {'n_estimators': 25, 'max_depth': 5},\n",
        " mean: 0.29018, std: 0.16599, params: {'n_estimators': 50, 'max_depth': 5},\n",
        " mean: 0.28660, std: 0.15874, params: {'n_estimators': 100, 'max_depth': 5},\n",
        " mean: 0.27520, std: 0.14881, params: {'n_estimators': 200, 'max_depth': 5},\n",
        " mean: 0.26406, std: 0.14926, params: {'n_estimators': 300, 'max_depth': 5},\n",
        " mean: 0.25371, std: 0.15223, params: {'n_estimators': 500, 'max_depth': 5}]"
       ]
      }
     ],
     "prompt_number": 114
    },
    {
     "cell_type": "code",
     "collapsed": false,
     "input": [
      "est = GradientBoostingRegressor(n_estimators=50, learning_rate=0.1,\\\n",
      "    max_depth=5, random_state=0, loss='ls').fit(X_train, y_train)"
     ],
     "language": "python",
     "metadata": {},
     "outputs": [],
     "prompt_number": 403
    },
    {
     "cell_type": "code",
     "collapsed": false,
     "input": [
      "est.score(X_test,y_test)"
     ],
     "language": "python",
     "metadata": {},
     "outputs": [
      {
       "metadata": {},
       "output_type": "pyout",
       "prompt_number": 404,
       "text": [
        "0.48260333183672943"
       ]
      }
     ],
     "prompt_number": 404
    },
    {
     "cell_type": "code",
     "collapsed": false,
     "input": [
      "p,res,_,_,_ = np.polyfit(y_test,est.predict(X_test),deg=1,full=True)\n",
      "print 'actual vs. predicted slope = ',p[0]\n",
      "rms = np.sqrt(res/float(len(y_test)))"
     ],
     "language": "python",
     "metadata": {},
     "outputs": [
      {
       "output_type": "stream",
       "stream": "stdout",
       "text": [
        "actual vs. predicted slope =  0.428052813596\n"
       ]
      }
     ],
     "prompt_number": 405
    },
    {
     "cell_type": "code",
     "collapsed": false,
     "input": [
      "plt.plot(y_test,est.predict(X_test),'bo',alpha=0.1)\n",
      "plt.xlabel('actual')\n",
      "plt.ylabel('predicted')\n",
      "plt.xlim(0,200)\n",
      "plt.ylim(0,200)\n",
      "x_arr = np.linspace(0,200,1000)\n",
      "plt.plot(x_arr,x_arr,'r-',label='1:1')\n",
      "plt.plot(x_arr,p[0]*x_arr+p[1],'g-',label='best fit line')\n",
      "plt.plot(x_arr,p[0]*x_arr+p[1]+rms,'g--')\n",
      "plt.plot(x_arr,p[0]*x_arr+p[1]-rms,'g--')\n",
      "plt.legend()\n",
      "plt.show()"
     ],
     "language": "python",
     "metadata": {},
     "outputs": [
      {
       "metadata": {},
       "output_type": "display_data",
       "png": "[encoded data removed]",
       "text": [
        "<matplotlib.figure.Figure at 0x110aa3250>"
       ]
      }
     ],
     "prompt_number": 406
    }
   ],
   "metadata": {}
  }
 ]
}